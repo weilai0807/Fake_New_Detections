{
 "cells": [
  {
   "cell_type": "markdown",
   "id": "8f87b7ba",
   "metadata": {},
   "source": [
    "# Data Understanding"
   ]
  },
  {
   "cell_type": "markdown",
   "id": "c800f6cb",
   "metadata": {},
   "source": [
    "Dataset: \n",
    "1) https://github.com/kennqiang/MDFEND-Weibo21/tree/main/data\n",
    "2) https://github.com/Xovee/ccgl"
   ]
  },
  {
   "cell_type": "code",
   "execution_count": 1,
   "id": "280d9f7f",
   "metadata": {},
   "outputs": [],
   "source": [
    "import pandas as pd\n",
    "import numpy as np\n",
    "import seaborn as sns\n",
    "import matplotlib.pyplot as plt\n",
    "import jieba.posseg as pseg\n",
    "from keras import Input\n",
    "from keras.layers import Embedding,LSTM, concatenate, Dense\n",
    "from keras.models import Model, Sequential\n",
    "from keras.optimizers import Adam\n",
    "from tensorflow import keras\n",
    "from tensorflow.keras.layers import Input, Conv1D, MaxPooling1D, Flatten, Dense, concatenate\n",
    "from tensorflow.keras.models import Model\n",
    "from sklearn.metrics import confusion_matrix, ConfusionMatrixDisplay, classification_report, accuracy_score, precision_score, recall_score, f1_score"
   ]
  },
  {
   "cell_type": "code",
   "execution_count": 2,
   "id": "d7619bf4",
   "metadata": {},
   "outputs": [],
   "source": [
    "df = pd.read_json('C:/Users/User/OneDrive - Universiti Malaya/CHEF/train.json')\n",
    "df1 = pd.read_json('C:/Users/User/OneDrive - Universiti Malaya/CHEF/test.json')\n",
    "df2 = pd.read_json('C:/Users/User/OneDrive - Universiti Malaya/CHEF/dev.json')"
   ]
  },
  {
   "cell_type": "code",
   "execution_count": 3,
   "id": "4666ae7c",
   "metadata": {
    "scrolled": true
   },
   "outputs": [
    {
     "data": {
      "text/html": [
       "<div>\n",
       "<style scoped>\n",
       "    .dataframe tbody tr th:only-of-type {\n",
       "        vertical-align: middle;\n",
       "    }\n",
       "\n",
       "    .dataframe tbody tr th {\n",
       "        vertical-align: top;\n",
       "    }\n",
       "\n",
       "    .dataframe thead th {\n",
       "        text-align: right;\n",
       "    }\n",
       "</style>\n",
       "<table border=\"1\" class=\"dataframe\">\n",
       "  <thead>\n",
       "    <tr style=\"text-align: right;\">\n",
       "      <th></th>\n",
       "      <th>claim</th>\n",
       "      <th>title</th>\n",
       "      <th>source</th>\n",
       "      <th>claimWeb</th>\n",
       "      <th>category</th>\n",
       "      <th>url</th>\n",
       "      <th>publish_date</th>\n",
       "      <th>editor</th>\n",
       "      <th>label</th>\n",
       "      <th>claimId</th>\n",
       "      <th>domain</th>\n",
       "      <th>verification method</th>\n",
       "      <th>evidence</th>\n",
       "      <th>gold evidence</th>\n",
       "      <th>verification社会ethod</th>\n",
       "    </tr>\n",
       "  </thead>\n",
       "  <tbody>\n",
       "    <tr>\n",
       "      <th>0</th>\n",
       "      <td>新疆棉花生产已实现高度机械化，不需要强迫劳动。</td>\n",
       "      <td>中使馆驳斥涉疆谣言：新疆棉花生产已实现高度机械化，哪里还需要强迫劳动？</td>\n",
       "      <td>中国驻英国使馆网站</td>\n",
       "      <td>中国互联网辟谣平台</td>\n",
       "      <td>部委发布</td>\n",
       "      <td>https://www.piyao.org.cn/2021-03/25/c_12110818...</td>\n",
       "      <td>2021-03-25</td>\n",
       "      <td>谢博隆</td>\n",
       "      <td>0</td>\n",
       "      <td>5</td>\n",
       "      <td>政治</td>\n",
       "      <td>专家咨询</td>\n",
       "      <td>{'0': {'text': '2021年3月22日，驻英国使馆杨晓光临时代办先后接受英国天...</td>\n",
       "      <td>{'0': {'text': '新疆棉花生产早已经实现高度机械化，即使在忙碌的采摘季节，也不...</td>\n",
       "      <td>NaN</td>\n",
       "    </tr>\n",
       "    <tr>\n",
       "      <th>1</th>\n",
       "      <td>失业保险金不等于失业补助金。</td>\n",
       "      <td>关于失业保险金，你可能有太多误区</td>\n",
       "      <td>中国互联网联合辟谣平台</td>\n",
       "      <td>中国互联网辟谣平台</td>\n",
       "      <td>部委发布</td>\n",
       "      <td>https://www.piyao.org.cn/2020-10/29/c_12108633...</td>\n",
       "      <td>2020-10-29</td>\n",
       "      <td>殷荧</td>\n",
       "      <td>0</td>\n",
       "      <td>27</td>\n",
       "      <td>社会</td>\n",
       "      <td>证据搜集</td>\n",
       "      <td>{'0': {'text': '由内容质量、互动评论、分享传播等多维度分值决定，勋章级别越高...</td>\n",
       "      <td>{'0': {'text': '答：按政策规定，失业保险金和失业补助金不可以同时领取。'},...</td>\n",
       "      <td>NaN</td>\n",
       "    </tr>\n",
       "    <tr>\n",
       "      <th>2</th>\n",
       "      <td>退休职工养老金能按时足额发放。</td>\n",
       "      <td>退休职工养老金能否按时足额发放？人社部回应了！</td>\n",
       "      <td>新华社</td>\n",
       "      <td>中国互联网辟谣平台</td>\n",
       "      <td>部委发布</td>\n",
       "      <td>https://www.piyao.org.cn/2020-10/29/c_12108629...</td>\n",
       "      <td>2020-10-29</td>\n",
       "      <td>殷荧</td>\n",
       "      <td>0</td>\n",
       "      <td>32</td>\n",
       "      <td>社会</td>\n",
       "      <td>专家咨询</td>\n",
       "      <td>{'0': {'text': '新华社北京10月28日电（记者姜琳）今年社保费减免力度空前，...</td>\n",
       "      <td>{'0': {'text': '人力资源和社会保障部28日回应，保发放提前进行了准备和安排，...</td>\n",
       "      <td>NaN</td>\n",
       "    </tr>\n",
       "    <tr>\n",
       "      <th>3</th>\n",
       "      <td>中国污水处理能力限制城市发展。</td>\n",
       "      <td>污水处理能力限制城市发展？ 补齐设施短板！</td>\n",
       "      <td>科技日报</td>\n",
       "      <td>中国互联网辟谣平台</td>\n",
       "      <td>部委发布</td>\n",
       "      <td>https://www.piyao.org.cn/2020-08/20/c_12107612...</td>\n",
       "      <td>2020-08-20</td>\n",
       "      <td>冯栋</td>\n",
       "      <td>0</td>\n",
       "      <td>38</td>\n",
       "      <td>社会</td>\n",
       "      <td>证据搜集</td>\n",
       "      <td>{'0': {'text': '原标题：为打赢污染防治攻坚战，《城镇生活污水处理设施补短板强...</td>\n",
       "      <td>{'0': {'text': '原标题：为打赢污染防治攻坚战，《城镇生活污水处理设施补短板强...</td>\n",
       "      <td>NaN</td>\n",
       "    </tr>\n",
       "    <tr>\n",
       "      <th>4</th>\n",
       "      <td>截至2020年3月底，猪肉价格持续小幅下跌。</td>\n",
       "      <td>这场发布会回应“舌尖上”的问题</td>\n",
       "      <td>科技日报</td>\n",
       "      <td>中国互联网辟谣平台</td>\n",
       "      <td>部委发布</td>\n",
       "      <td>https://www.piyao.org.cn/2020-04/20/c_12105781...</td>\n",
       "      <td>2020-04-20</td>\n",
       "      <td>殷荧</td>\n",
       "      <td>0</td>\n",
       "      <td>63</td>\n",
       "      <td>社会</td>\n",
       "      <td>专家咨询， 数值推理</td>\n",
       "      <td>{'0': {'text': '原标题：截至3月底，猪肉批发价格已连续7周下跌来源：新京报全...</td>\n",
       "      <td>{'0': {'text': '陈萍提出，分品种看，猪肉价格持续小幅下跌，截至3月底全国猪肉...</td>\n",
       "      <td>NaN</td>\n",
       "    </tr>\n",
       "  </tbody>\n",
       "</table>\n",
       "</div>"
      ],
      "text/plain": [
       "                     claim                                title       source  \\\n",
       "0  新疆棉花生产已实现高度机械化，不需要强迫劳动。  中使馆驳斥涉疆谣言：新疆棉花生产已实现高度机械化，哪里还需要强迫劳动？    中国驻英国使馆网站   \n",
       "1           失业保险金不等于失业补助金。                     关于失业保险金，你可能有太多误区  中国互联网联合辟谣平台   \n",
       "2          退休职工养老金能按时足额发放。              退休职工养老金能否按时足额发放？人社部回应了！          新华社   \n",
       "3          中国污水处理能力限制城市发展。                污水处理能力限制城市发展？ 补齐设施短板！         科技日报   \n",
       "4   截至2020年3月底，猪肉价格持续小幅下跌。                      这场发布会回应“舌尖上”的问题         科技日报   \n",
       "\n",
       "    claimWeb category                                                url  \\\n",
       "0  中国互联网辟谣平台     部委发布  https://www.piyao.org.cn/2021-03/25/c_12110818...   \n",
       "1  中国互联网辟谣平台     部委发布  https://www.piyao.org.cn/2020-10/29/c_12108633...   \n",
       "2  中国互联网辟谣平台     部委发布  https://www.piyao.org.cn/2020-10/29/c_12108629...   \n",
       "3  中国互联网辟谣平台     部委发布  https://www.piyao.org.cn/2020-08/20/c_12107612...   \n",
       "4  中国互联网辟谣平台     部委发布  https://www.piyao.org.cn/2020-04/20/c_12105781...   \n",
       "\n",
       "  publish_date editor  label  claimId domain verification method  \\\n",
       "0   2021-03-25    谢博隆      0        5     政治                专家咨询   \n",
       "1   2020-10-29     殷荧      0       27     社会                证据搜集   \n",
       "2   2020-10-29     殷荧      0       32     社会                专家咨询   \n",
       "3   2020-08-20     冯栋      0       38     社会                证据搜集   \n",
       "4   2020-04-20     殷荧      0       63     社会          专家咨询， 数值推理   \n",
       "\n",
       "                                            evidence  \\\n",
       "0  {'0': {'text': '2021年3月22日，驻英国使馆杨晓光临时代办先后接受英国天...   \n",
       "1  {'0': {'text': '由内容质量、互动评论、分享传播等多维度分值决定，勋章级别越高...   \n",
       "2  {'0': {'text': '新华社北京10月28日电（记者姜琳）今年社保费减免力度空前，...   \n",
       "3  {'0': {'text': '原标题：为打赢污染防治攻坚战，《城镇生活污水处理设施补短板强...   \n",
       "4  {'0': {'text': '原标题：截至3月底，猪肉批发价格已连续7周下跌来源：新京报全...   \n",
       "\n",
       "                                       gold evidence verification社会ethod  \n",
       "0  {'0': {'text': '新疆棉花生产早已经实现高度机械化，即使在忙碌的采摘季节，也不...                 NaN  \n",
       "1  {'0': {'text': '答：按政策规定，失业保险金和失业补助金不可以同时领取。'},...                 NaN  \n",
       "2  {'0': {'text': '人力资源和社会保障部28日回应，保发放提前进行了准备和安排，...                 NaN  \n",
       "3  {'0': {'text': '原标题：为打赢污染防治攻坚战，《城镇生活污水处理设施补短板强...                 NaN  \n",
       "4  {'0': {'text': '陈萍提出，分品种看，猪肉价格持续小幅下跌，截至3月底全国猪肉...                 NaN  "
      ]
     },
     "execution_count": 3,
     "metadata": {},
     "output_type": "execute_result"
    }
   ],
   "source": [
    "dfs = [df, df1, df2]\n",
    "\n",
    "# Concatenate DataFrames vertically (along rows)\n",
    "combined_df = pd.concat(dfs, ignore_index=True)\n",
    "\n",
    "# Print the combined DataFrame\n",
    "combined_df.head()"
   ]
  },
  {
   "cell_type": "code",
   "execution_count": 4,
   "id": "d992aeca",
   "metadata": {},
   "outputs": [
    {
     "name": "stdout",
     "output_type": "stream",
     "text": [
      "label\n",
      "1    5015\n",
      "0    3543\n",
      "2    1442\n",
      "Name: count, dtype: int64\n"
     ]
    }
   ],
   "source": [
    "label_counts = combined_df['label'].value_counts()\n",
    "\n",
    "print(label_counts)"
   ]
  },
  {
   "cell_type": "code",
   "execution_count": 5,
   "id": "f235c80e",
   "metadata": {},
   "outputs": [
    {
     "name": "stdout",
     "output_type": "stream",
     "text": [
      "<class 'pandas.core.frame.DataFrame'>\n",
      "RangeIndex: 10000 entries, 0 to 9999\n",
      "Data columns (total 15 columns):\n",
      " #   Column               Non-Null Count  Dtype \n",
      "---  ------               --------------  ----- \n",
      " 0   claim                10000 non-null  object\n",
      " 1   title                10000 non-null  object\n",
      " 2   source               10000 non-null  object\n",
      " 3   claimWeb             10000 non-null  object\n",
      " 4   category             10000 non-null  object\n",
      " 5   url                  10000 non-null  object\n",
      " 6   publish_date         10000 non-null  object\n",
      " 7   editor               10000 non-null  object\n",
      " 8   label                10000 non-null  int64 \n",
      " 9   claimId              10000 non-null  int64 \n",
      " 10  domain               10000 non-null  object\n",
      " 11  verification method  9999 non-null   object\n",
      " 12  evidence             10000 non-null  object\n",
      " 13  gold evidence        10000 non-null  object\n",
      " 14  verification社会ethod  1 non-null      object\n",
      "dtypes: int64(2), object(13)\n",
      "memory usage: 1.1+ MB\n"
     ]
    }
   ],
   "source": [
    "combined_df.info()"
   ]
  },
  {
   "cell_type": "code",
   "execution_count": 6,
   "id": "26351bc9",
   "metadata": {},
   "outputs": [],
   "source": [
    "combined_df = combined_df.drop(columns=['verification社会ethod'])\n",
    "\n",
    "combined_df = combined_df[combined_df['label'] != 2]"
   ]
  },
  {
   "cell_type": "code",
   "execution_count": 7,
   "id": "947ec30f",
   "metadata": {},
   "outputs": [
    {
     "name": "stdout",
     "output_type": "stream",
     "text": [
      "<class 'pandas.core.frame.DataFrame'>\n",
      "Index: 8558 entries, 0 to 9666\n",
      "Data columns (total 14 columns):\n",
      " #   Column               Non-Null Count  Dtype \n",
      "---  ------               --------------  ----- \n",
      " 0   claim                8558 non-null   object\n",
      " 1   title                8558 non-null   object\n",
      " 2   source               8558 non-null   object\n",
      " 3   claimWeb             8558 non-null   object\n",
      " 4   category             8558 non-null   object\n",
      " 5   url                  8558 non-null   object\n",
      " 6   publish_date         8558 non-null   object\n",
      " 7   editor               8558 non-null   object\n",
      " 8   label                8558 non-null   int64 \n",
      " 9   claimId              8558 non-null   int64 \n",
      " 10  domain               8558 non-null   object\n",
      " 11  verification method  8557 non-null   object\n",
      " 12  evidence             8558 non-null   object\n",
      " 13  gold evidence        8558 non-null   object\n",
      "dtypes: int64(2), object(12)\n",
      "memory usage: 1002.9+ KB\n"
     ]
    }
   ],
   "source": [
    "combined_df.info()"
   ]
  },
  {
   "cell_type": "code",
   "execution_count": 8,
   "id": "55c6cd81",
   "metadata": {},
   "outputs": [
    {
     "data": {
      "text/plain": [
       "claim                  False\n",
       "title                  False\n",
       "source                 False\n",
       "claimWeb               False\n",
       "category               False\n",
       "url                    False\n",
       "publish_date           False\n",
       "editor                 False\n",
       "label                  False\n",
       "claimId                False\n",
       "domain                 False\n",
       "verification method     True\n",
       "evidence               False\n",
       "gold evidence          False\n",
       "dtype: bool"
      ]
     },
     "execution_count": 8,
     "metadata": {},
     "output_type": "execute_result"
    }
   ],
   "source": [
    "combined_df.isnull().any()"
   ]
  },
  {
   "cell_type": "code",
   "execution_count": 9,
   "id": "08b32532",
   "metadata": {},
   "outputs": [],
   "source": [
    "combined_df['verification method'].fillna(\"Not applicable\", inplace=True)"
   ]
  },
  {
   "cell_type": "code",
   "execution_count": 10,
   "id": "b5adbb70",
   "metadata": {},
   "outputs": [
    {
     "name": "stdout",
     "output_type": "stream",
     "text": [
      "<class 'pandas.core.frame.DataFrame'>\n",
      "Index: 8558 entries, 0 to 9666\n",
      "Data columns (total 14 columns):\n",
      " #   Column               Non-Null Count  Dtype \n",
      "---  ------               --------------  ----- \n",
      " 0   claim                8558 non-null   object\n",
      " 1   title                8558 non-null   object\n",
      " 2   source               8558 non-null   object\n",
      " 3   claimWeb             8558 non-null   object\n",
      " 4   category             8558 non-null   object\n",
      " 5   url                  8558 non-null   object\n",
      " 6   publish_date         8558 non-null   object\n",
      " 7   editor               8558 non-null   object\n",
      " 8   label                8558 non-null   int64 \n",
      " 9   claimId              8558 non-null   int64 \n",
      " 10  domain               8558 non-null   object\n",
      " 11  verification method  8558 non-null   object\n",
      " 12  evidence             8558 non-null   object\n",
      " 13  gold evidence        8558 non-null   object\n",
      "dtypes: int64(2), object(12)\n",
      "memory usage: 1002.9+ KB\n"
     ]
    }
   ],
   "source": [
    "combined_df.info()"
   ]
  },
  {
   "cell_type": "code",
   "execution_count": 11,
   "id": "83b22f99",
   "metadata": {},
   "outputs": [
    {
     "data": {
      "text/plain": [
       "label\n",
       "1    5015\n",
       "0    3543\n",
       "Name: count, dtype: int64"
      ]
     },
     "execution_count": 11,
     "metadata": {},
     "output_type": "execute_result"
    }
   ],
   "source": [
    "combined_df['label'].value_counts()"
   ]
  },
  {
   "cell_type": "markdown",
   "id": "d283e729",
   "metadata": {},
   "source": [
    "# EDA"
   ]
  },
  {
   "cell_type": "code",
   "execution_count": 12,
   "id": "d709440b",
   "metadata": {},
   "outputs": [],
   "source": [
    "def map_labels(label):\n",
    "    if label == 0:\n",
    "        return 'Fake'\n",
    "    elif label == 1:\n",
    "        return 'True'\n",
    "    else:\n",
    "        return 'unknown'  # Handle other cases if needed\n",
    "\n",
    "# Apply the function to create a new column\n",
    "EDA_df=combined_df.copy()\n",
    "EDA_df['label_meaning'] = combined_df['label'].apply(map_labels)"
   ]
  },
  {
   "cell_type": "code",
   "execution_count": 13,
   "id": "6250629d",
   "metadata": {},
   "outputs": [
    {
     "name": "stderr",
     "output_type": "stream",
     "text": [
      "C:\\Users\\User\\AppData\\Local\\Temp\\ipykernel_6200\\3733478073.py:8: FutureWarning: \n",
      "\n",
      "Passing `palette` without assigning `hue` is deprecated and will be removed in v0.14.0. Assign the `x` variable to `hue` and set `legend=False` for the same effect.\n",
      "\n",
      "  sns.barplot(x=class_counts.index, y=class_counts.values, palette=custom_palette)\n",
      "No artists with labels found to put in legend.  Note that artists whose label start with an underscore are ignored when legend() is called with no argument.\n"
     ]
    },
    {
     "data": {
      "image/png": "[encoded data removed]",
      "text/plain": [
       "<Figure size 800x600 with 1 Axes>"
      ]
     },
     "metadata": {},
     "output_type": "display_data"
    }
   ],
   "source": [
    "class_counts = EDA_df['label_meaning'].value_counts()\n",
    "\n",
    "# Create a custom color palette\n",
    "custom_palette = ['blue','orange']\n",
    "\n",
    "# Create a bar plot using Seaborn\n",
    "plt.figure(figsize=(8, 6))\n",
    "sns.barplot(x=class_counts.index, y=class_counts.values, palette=custom_palette)\n",
    "plt.title('Class Distribution')\n",
    "plt.xlabel('Class')\n",
    "plt.ylabel('Count')\n",
    "plt.legend().remove()\n",
    "plt.show()"
   ]
  },
  {
   "cell_type": "code",
   "execution_count": 14,
   "id": "8e9693dd",
   "metadata": {},
   "outputs": [],
   "source": [
    "EDA_df['publish_date'] = df['publish_date'].str.replace(\"/\", \"-\")\n",
    "\n",
    "EDA_df['publish_date'] = pd.to_datetime(EDA_df[\"publish_date\"], errors = \"coerce\")\n",
    "\n",
    "# Extract year and month to a new column\n",
    "EDA_df['year_month'] = EDA_df['publish_date'].dt.to_period('M')\n",
    "\n",
    "# Change the data type from Period to string\n",
    "EDA_df['year_month'] = EDA_df['year_month'].astype(str)\n"
   ]
  },
  {
   "cell_type": "code",
   "execution_count": 15,
   "id": "44e9db90",
   "metadata": {
    "scrolled": false
   },
   "outputs": [
    {
     "data": {
      "image/png": "[encoded data removed]",
      "text/plain": [
       "<Figure size 1000x600 with 1 Axes>"
      ]
     },
     "metadata": {},
     "output_type": "display_data"
    }
   ],
   "source": [
    "news_counts = EDA_df.groupby(['year_month', 'label_meaning']).size().unstack(fill_value=0)\n",
    "\n",
    "plt.figure(figsize=(10, 6))  # Set the figure size\n",
    "\n",
    "# Plot the line graphs for fake news and true news counts\n",
    "plt.plot(news_counts.index, news_counts['Fake'], marker='o', linestyle='-', color='b', label='Fake News')\n",
    "plt.plot(news_counts.index, news_counts['True'], marker='o', linestyle='-', color='g', label='True News')\n",
    "\n",
    "# Customize the plot\n",
    "plt.title('Publish Date vs. News Counts')\n",
    "plt.xlabel('Publish Date')\n",
    "plt.ylabel('Counts')\n",
    "plt.xticks(rotation=45)  # Rotate x-axis labels for better readability\n",
    "plt.legend()\n",
    "\n",
    "plt.tight_layout()  # Adjust layout for better appearance\n",
    "plt.show()  # Display the plot"
   ]
  },
  {
   "cell_type": "markdown",
   "id": "4eadc114",
   "metadata": {},
   "source": [
    "# Data Preprocessing"
   ]
  },
  {
   "cell_type": "markdown",
   "id": "521327cf",
   "metadata": {},
   "source": [
    "Remove IP addresses, stop words and punctuation\n",
    "Tokenization"
   ]
  },
  {
   "cell_type": "code",
   "execution_count": 16,
   "id": "8e110cdd",
   "metadata": {},
   "outputs": [],
   "source": [
    "def jieba_tokenizer(text):\n",
    "    words = pseg.cut(text)\n",
    "    return ' '.join([\n",
    "        word for word, flag in words if flag != 'x'])"
   ]
  },
  {
   "cell_type": "code",
   "execution_count": 17,
   "id": "32086756",
   "metadata": {},
   "outputs": [],
   "source": [
    "def process(data):\n",
    "    res = data.apply(jieba_tokenizer)\n",
    "    return res"
   ]
  },
  {
   "cell_type": "code",
   "execution_count": 18,
   "id": "c5e9be70",
   "metadata": {},
   "outputs": [
    {
     "data": {
      "text/html": [
       "<div>\n",
       "<style scoped>\n",
       "    .dataframe tbody tr th:only-of-type {\n",
       "        vertical-align: middle;\n",
       "    }\n",
       "\n",
       "    .dataframe tbody tr th {\n",
       "        vertical-align: top;\n",
       "    }\n",
       "\n",
       "    .dataframe thead th {\n",
       "        text-align: right;\n",
       "    }\n",
       "</style>\n",
       "<table border=\"1\" class=\"dataframe\">\n",
       "  <thead>\n",
       "    <tr style=\"text-align: right;\">\n",
       "      <th></th>\n",
       "      <th>claim</th>\n",
       "      <th>title</th>\n",
       "      <th>label</th>\n",
       "    </tr>\n",
       "  </thead>\n",
       "  <tbody>\n",
       "    <tr>\n",
       "      <th>0</th>\n",
       "      <td>新疆棉花生产已实现高度机械化，不需要强迫劳动。</td>\n",
       "      <td>中使馆驳斥涉疆谣言：新疆棉花生产已实现高度机械化，哪里还需要强迫劳动？</td>\n",
       "      <td>0</td>\n",
       "    </tr>\n",
       "    <tr>\n",
       "      <th>1</th>\n",
       "      <td>失业保险金不等于失业补助金。</td>\n",
       "      <td>关于失业保险金，你可能有太多误区</td>\n",
       "      <td>0</td>\n",
       "    </tr>\n",
       "    <tr>\n",
       "      <th>2</th>\n",
       "      <td>退休职工养老金能按时足额发放。</td>\n",
       "      <td>退休职工养老金能否按时足额发放？人社部回应了！</td>\n",
       "      <td>0</td>\n",
       "    </tr>\n",
       "    <tr>\n",
       "      <th>3</th>\n",
       "      <td>中国污水处理能力限制城市发展。</td>\n",
       "      <td>污水处理能力限制城市发展？ 补齐设施短板！</td>\n",
       "      <td>0</td>\n",
       "    </tr>\n",
       "    <tr>\n",
       "      <th>4</th>\n",
       "      <td>截至2020年3月底，猪肉价格持续小幅下跌。</td>\n",
       "      <td>这场发布会回应“舌尖上”的问题</td>\n",
       "      <td>0</td>\n",
       "    </tr>\n",
       "  </tbody>\n",
       "</table>\n",
       "</div>"
      ],
      "text/plain": [
       "                     claim                                title  label\n",
       "0  新疆棉花生产已实现高度机械化，不需要强迫劳动。  中使馆驳斥涉疆谣言：新疆棉花生产已实现高度机械化，哪里还需要强迫劳动？      0\n",
       "1           失业保险金不等于失业补助金。                     关于失业保险金，你可能有太多误区      0\n",
       "2          退休职工养老金能按时足额发放。              退休职工养老金能否按时足额发放？人社部回应了！      0\n",
       "3          中国污水处理能力限制城市发展。                污水处理能力限制城市发展？ 补齐设施短板！      0\n",
       "4   截至2020年3月底，猪肉价格持续小幅下跌。                      这场发布会回应“舌尖上”的问题      0"
      ]
     },
     "execution_count": 18,
     "metadata": {},
     "output_type": "execute_result"
    }
   ],
   "source": [
    "jieba_df = combined_df[[\"claim\", \"title\", \"label\"]]\n",
    "\n",
    "jieba_df.head()"
   ]
  },
  {
   "cell_type": "code",
   "execution_count": 19,
   "id": "0d18d47f",
   "metadata": {},
   "outputs": [
    {
     "data": {
      "text/plain": [
       "claim    False\n",
       "title    False\n",
       "label    False\n",
       "dtype: bool"
      ]
     },
     "execution_count": 19,
     "metadata": {},
     "output_type": "execute_result"
    }
   ],
   "source": [
    "jieba_df.isna().any()"
   ]
  },
  {
   "cell_type": "code",
   "execution_count": 20,
   "id": "5ce2418f",
   "metadata": {
    "scrolled": true
   },
   "outputs": [
    {
     "name": "stderr",
     "output_type": "stream",
     "text": [
      "Building prefix dict from the default dictionary ...\n",
      "Loading model from cache C:\\Users\\User\\AppData\\Local\\Temp\\jieba.cache\n",
      "Loading model cost 0.487 seconds.\n",
      "Prefix dict has been built successfully.\n",
      "C:\\Users\\User\\AppData\\Local\\Temp\\ipykernel_6200\\1546768494.py:1: SettingWithCopyWarning: \n",
      "A value is trying to be set on a copy of a slice from a DataFrame.\n",
      "Try using .loc[row_indexer,col_indexer] = value instead\n",
      "\n",
      "See the caveats in the documentation: https://pandas.pydata.org/pandas-docs/stable/user_guide/indexing.html#returning-a-view-versus-a-copy\n",
      "  jieba_df[\"tokenized_claim\"] = process(jieba_df.loc[:,\"claim\"])\n"
     ]
    }
   ],
   "source": [
    "jieba_df[\"tokenized_claim\"] = process(jieba_df.loc[:,\"claim\"])"
   ]
  },
  {
   "cell_type": "code",
   "execution_count": 21,
   "id": "7ead98e1",
   "metadata": {},
   "outputs": [
    {
     "name": "stderr",
     "output_type": "stream",
     "text": [
      "C:\\Users\\User\\AppData\\Local\\Temp\\ipykernel_6200\\4142103444.py:1: SettingWithCopyWarning: \n",
      "A value is trying to be set on a copy of a slice from a DataFrame.\n",
      "Try using .loc[row_indexer,col_indexer] = value instead\n",
      "\n",
      "See the caveats in the documentation: https://pandas.pydata.org/pandas-docs/stable/user_guide/indexing.html#returning-a-view-versus-a-copy\n",
      "  jieba_df[\"tokenized_title\"] = process(jieba_df.loc[:,\"title\"])\n"
     ]
    }
   ],
   "source": [
    "jieba_df[\"tokenized_title\"] = process(jieba_df.loc[:,\"title\"])"
   ]
  },
  {
   "cell_type": "code",
   "execution_count": 22,
   "id": "83c596c3",
   "metadata": {},
   "outputs": [
    {
     "data": {
      "text/html": [
       "<div>\n",
       "<style scoped>\n",
       "    .dataframe tbody tr th:only-of-type {\n",
       "        vertical-align: middle;\n",
       "    }\n",
       "\n",
       "    .dataframe tbody tr th {\n",
       "        vertical-align: top;\n",
       "    }\n",
       "\n",
       "    .dataframe thead th {\n",
       "        text-align: right;\n",
       "    }\n",
       "</style>\n",
       "<table border=\"1\" class=\"dataframe\">\n",
       "  <thead>\n",
       "    <tr style=\"text-align: right;\">\n",
       "      <th></th>\n",
       "      <th>claim</th>\n",
       "      <th>title</th>\n",
       "      <th>label</th>\n",
       "      <th>tokenized_claim</th>\n",
       "      <th>tokenized_title</th>\n",
       "    </tr>\n",
       "  </thead>\n",
       "  <tbody>\n",
       "    <tr>\n",
       "      <th>0</th>\n",
       "      <td>新疆棉花生产已实现高度机械化，不需要强迫劳动。</td>\n",
       "      <td>中使馆驳斥涉疆谣言：新疆棉花生产已实现高度机械化，哪里还需要强迫劳动？</td>\n",
       "      <td>0</td>\n",
       "      <td>新疆 棉花 生产 已 实现 高度 机械化 不 需要 强迫 劳动</td>\n",
       "      <td>中 使馆 驳斥 涉疆 谣言 新疆 棉花 生产 已 实现 高度 机械化 哪里 还 需要 强迫 劳动</td>\n",
       "    </tr>\n",
       "    <tr>\n",
       "      <th>1</th>\n",
       "      <td>失业保险金不等于失业补助金。</td>\n",
       "      <td>关于失业保险金，你可能有太多误区</td>\n",
       "      <td>0</td>\n",
       "      <td>失业 保险金 不 等于 失业 补助金</td>\n",
       "      <td>关于 失业 保险金 你 可能 有 太 多 误区</td>\n",
       "    </tr>\n",
       "    <tr>\n",
       "      <th>2</th>\n",
       "      <td>退休职工养老金能按时足额发放。</td>\n",
       "      <td>退休职工养老金能否按时足额发放？人社部回应了！</td>\n",
       "      <td>0</td>\n",
       "      <td>退休职工 养老金 能 按时 足额 发放</td>\n",
       "      <td>退休职工 养老金 能否 按时 足额 发放 人社部 回应 了</td>\n",
       "    </tr>\n",
       "    <tr>\n",
       "      <th>3</th>\n",
       "      <td>中国污水处理能力限制城市发展。</td>\n",
       "      <td>污水处理能力限制城市发展？ 补齐设施短板！</td>\n",
       "      <td>0</td>\n",
       "      <td>中国 污水处理 能力 限制 城市 发展</td>\n",
       "      <td>污水处理 能力 限制 城市 发展 补齐 设施 短板</td>\n",
       "    </tr>\n",
       "    <tr>\n",
       "      <th>4</th>\n",
       "      <td>截至2020年3月底，猪肉价格持续小幅下跌。</td>\n",
       "      <td>这场发布会回应“舌尖上”的问题</td>\n",
       "      <td>0</td>\n",
       "      <td>截至 2020 年 3 月底 猪肉 价格 持续 小幅 下跌</td>\n",
       "      <td>这场 发布会 回应 舌尖 上 的 问题</td>\n",
       "    </tr>\n",
       "  </tbody>\n",
       "</table>\n",
       "</div>"
      ],
      "text/plain": [
       "                     claim                                title  label  \\\n",
       "0  新疆棉花生产已实现高度机械化，不需要强迫劳动。  中使馆驳斥涉疆谣言：新疆棉花生产已实现高度机械化，哪里还需要强迫劳动？      0   \n",
       "1           失业保险金不等于失业补助金。                     关于失业保险金，你可能有太多误区      0   \n",
       "2          退休职工养老金能按时足额发放。              退休职工养老金能否按时足额发放？人社部回应了！      0   \n",
       "3          中国污水处理能力限制城市发展。                污水处理能力限制城市发展？ 补齐设施短板！      0   \n",
       "4   截至2020年3月底，猪肉价格持续小幅下跌。                      这场发布会回应“舌尖上”的问题      0   \n",
       "\n",
       "                   tokenized_claim  \\\n",
       "0  新疆 棉花 生产 已 实现 高度 机械化 不 需要 强迫 劳动   \n",
       "1               失业 保险金 不 等于 失业 补助金   \n",
       "2              退休职工 养老金 能 按时 足额 发放   \n",
       "3              中国 污水处理 能力 限制 城市 发展   \n",
       "4    截至 2020 年 3 月底 猪肉 价格 持续 小幅 下跌   \n",
       "\n",
       "                                    tokenized_title  \n",
       "0  中 使馆 驳斥 涉疆 谣言 新疆 棉花 生产 已 实现 高度 机械化 哪里 还 需要 强迫 劳动  \n",
       "1                           关于 失业 保险金 你 可能 有 太 多 误区  \n",
       "2                     退休职工 养老金 能否 按时 足额 发放 人社部 回应 了  \n",
       "3                         污水处理 能力 限制 城市 发展 补齐 设施 短板  \n",
       "4                               这场 发布会 回应 舌尖 上 的 问题  "
      ]
     },
     "execution_count": 22,
     "metadata": {},
     "output_type": "execute_result"
    }
   ],
   "source": [
    "jieba_df.head()"
   ]
  },
  {
   "cell_type": "code",
   "execution_count": 23,
   "id": "d49d1640",
   "metadata": {},
   "outputs": [
    {
     "data": {
      "text/plain": [
       "claim              False\n",
       "title              False\n",
       "label              False\n",
       "tokenized_claim    False\n",
       "tokenized_title    False\n",
       "dtype: bool"
      ]
     },
     "execution_count": 23,
     "metadata": {},
     "output_type": "execute_result"
    }
   ],
   "source": [
    "jieba_df.isna().any()"
   ]
  },
  {
   "cell_type": "code",
   "execution_count": 24,
   "id": "0b9f362a",
   "metadata": {},
   "outputs": [],
   "source": [
    "import math\n",
    "\n",
    "train_num = math.ceil(len(jieba_df)*0.8)\n",
    "\n",
    "jieba_df = jieba_df.sample(frac = 1)\n",
    "\n",
    "jieba_df_train = jieba_df.head(train_num)\n",
    "\n",
    "jieba_df_test = jieba_df.tail(len(jieba_df) - train_num)"
   ]
  },
  {
   "cell_type": "code",
   "execution_count": 25,
   "id": "34ad11de",
   "metadata": {},
   "outputs": [
    {
     "data": {
      "text/html": [
       "<div>\n",
       "<style scoped>\n",
       "    .dataframe tbody tr th:only-of-type {\n",
       "        vertical-align: middle;\n",
       "    }\n",
       "\n",
       "    .dataframe tbody tr th {\n",
       "        vertical-align: top;\n",
       "    }\n",
       "\n",
       "    .dataframe thead th {\n",
       "        text-align: right;\n",
       "    }\n",
       "</style>\n",
       "<table border=\"1\" class=\"dataframe\">\n",
       "  <thead>\n",
       "    <tr style=\"text-align: right;\">\n",
       "      <th></th>\n",
       "      <th>claim</th>\n",
       "      <th>title</th>\n",
       "      <th>label</th>\n",
       "      <th>tokenized_claim</th>\n",
       "      <th>tokenized_title</th>\n",
       "    </tr>\n",
       "  </thead>\n",
       "  <tbody>\n",
       "    <tr>\n",
       "      <th>707</th>\n",
       "      <td>汪文斌：美国炒作“实验室泄漏是美一己私利，损害的是国际公益和各国人民的生命健康。</td>\n",
       "      <td>汪文斌：美国炒作“实验室泄漏说”到底意欲何为？</td>\n",
       "      <td>0</td>\n",
       "      <td>汪文斌 美国 炒作 实验室 泄漏 是 美 一己 私利 损害 的 是 国际 公益 和 各国 人...</td>\n",
       "      <td>汪文斌 美国 炒作 实验室 泄漏 说 到底 意欲何为</td>\n",
       "    </tr>\n",
       "    <tr>\n",
       "      <th>3375</th>\n",
       "      <td>2018年8月，山西大同两人因房屋漏水引发矛盾，男子把女邻居砍死。</td>\n",
       "      <td>馒头掺卫生纸？8月谣言：老套路 新花样</td>\n",
       "      <td>1</td>\n",
       "      <td>2018 年 8 月 山西大同 两 人 因 房屋 漏水 引发 矛盾 男子 把 女 邻居 砍死</td>\n",
       "      <td>馒头 掺 卫生纸 8 月 谣言 老套路 新花样</td>\n",
       "    </tr>\n",
       "    <tr>\n",
       "      <th>3524</th>\n",
       "      <td>飞机有辐射孕妇不能乘坐。</td>\n",
       "      <td>假期将至，这些关于旅游的谣言你信了吗？</td>\n",
       "      <td>1</td>\n",
       "      <td>飞机 有 辐射 孕妇 不能 乘坐</td>\n",
       "      <td>假期 将 至 这些 关于 旅游 的 谣言 你 信 了 吗</td>\n",
       "    </tr>\n",
       "    <tr>\n",
       "      <th>8355</th>\n",
       "      <td>车管所年审新规：车辆逾期未检，车管所将予以锁定，需要车主本人去车管部门处理，才能解锁</td>\n",
       "      <td>千万别信！近期朋友圈十大谣言！第一个就骗了很多人</td>\n",
       "      <td>1</td>\n",
       "      <td>车管所 年 审新 规 车辆 逾期 未 检 车管所 将 予以 锁定 需要 车主 本人 去 车管...</td>\n",
       "      <td>千万别 信 近期 朋友圈 十大 谣言 第一个 就 骗 了 很多 人</td>\n",
       "    </tr>\n",
       "    <tr>\n",
       "      <th>2375</th>\n",
       "      <td>2020年5月27日，美股集体收高道指涨逾520点，瑞幸咖啡大涨53%。</td>\n",
       "      <td></td>\n",
       "      <td>0</td>\n",
       "      <td>2020 年 5 月 27 日 美股 集体 收高 道 指涨 逾 520 点 瑞幸 咖啡 大 ...</td>\n",
       "      <td></td>\n",
       "    </tr>\n",
       "    <tr>\n",
       "      <th>...</th>\n",
       "      <td>...</td>\n",
       "      <td>...</td>\n",
       "      <td>...</td>\n",
       "      <td>...</td>\n",
       "      <td>...</td>\n",
       "    </tr>\n",
       "    <tr>\n",
       "      <th>5737</th>\n",
       "      <td>2021 年 1 月 14 日時，有网友爆料台南市史博館路口發生假車禍與假警察事件。</td>\n",
       "      <td>【查證】台南市史博館路口發生假車禍與假警察事件？警：勿轉傳未經證實訊息</td>\n",
       "      <td>1</td>\n",
       "      <td>2021 年 月 14 日時 有 网友 爆料 台南市 史博館 路口 發生 假車 禍 與 假警...</td>\n",
       "      <td>查證 台南市 史博館 路口 發生 假車 禍 與 假警察 事件 警 勿 轉傳 未經 證實訊息</td>\n",
       "    </tr>\n",
       "    <tr>\n",
       "      <th>3208</th>\n",
       "      <td>微信免费时代即将结束。</td>\n",
       "      <td>这些谣言中老年人要当心</td>\n",
       "      <td>1</td>\n",
       "      <td>微信 免费 时代 即将 结束</td>\n",
       "      <td>这些 谣言 中老年人 要 当心</td>\n",
       "    </tr>\n",
       "    <tr>\n",
       "      <th>6026</th>\n",
       "      <td>俄羅斯在街上放獅子防止民眾外出</td>\n",
       "      <td>【假圖片】俄羅斯在街上放獅子防止民眾外出？2016電影場景</td>\n",
       "      <td>1</td>\n",
       "      <td>俄羅斯 在 街上 放 獅子 防止 民眾 外出</td>\n",
       "      <td>假 圖片 俄羅斯 在 街上 放 獅子 防止 民眾 外出 2016 電影場 景</td>\n",
       "    </tr>\n",
       "    <tr>\n",
       "      <th>646</th>\n",
       "      <td>新疆人权成果再次捅破西方炮制的弥天大谎，西方一些人权卫士的乱疆遏华图谋必定一败涂地</td>\n",
       "      <td>新疆人权成果再次捅破西方炮制的弥天大谎</td>\n",
       "      <td>0</td>\n",
       "      <td>新疆 人权 成果 再次 捅破 西方 炮制 的 弥天大谎 西方 一些 人权 卫士 的 乱疆遏 ...</td>\n",
       "      <td>新疆 人权 成果 再次 捅破 西方 炮制 的 弥天大谎</td>\n",
       "    </tr>\n",
       "    <tr>\n",
       "      <th>803</th>\n",
       "      <td>企业防治性骚扰的法律责任需进一步明确</td>\n",
       "      <td>防治职场性骚扰，机制怎么建？责任怎么担？专家这样说→</td>\n",
       "      <td>0</td>\n",
       "      <td>企业 防治 性骚扰 的 法律责任 需 进一步 明确</td>\n",
       "      <td>防治 职场 性骚扰 机制 怎么 建 责任 怎么 担 专家 这样 说</td>\n",
       "    </tr>\n",
       "  </tbody>\n",
       "</table>\n",
       "<p>6847 rows × 5 columns</p>\n",
       "</div>"
      ],
      "text/plain": [
       "                                           claim  \\\n",
       "707     汪文斌：美国炒作“实验室泄漏是美一己私利，损害的是国际公益和各国人民的生命健康。   \n",
       "3375           2018年8月，山西大同两人因房屋漏水引发矛盾，男子把女邻居砍死。   \n",
       "3524                                飞机有辐射孕妇不能乘坐。   \n",
       "8355  车管所年审新规：车辆逾期未检，车管所将予以锁定，需要车主本人去车管部门处理，才能解锁   \n",
       "2375        2020年5月27日，美股集体收高道指涨逾520点，瑞幸咖啡大涨53%。   \n",
       "...                                          ...   \n",
       "5737  2021 年 1 月 14 日時，有网友爆料台南市史博館路口發生假車禍與假警察事件。   \n",
       "3208                                 微信免费时代即将结束。   \n",
       "6026                             俄羅斯在街上放獅子防止民眾外出   \n",
       "646    新疆人权成果再次捅破西方炮制的弥天大谎，西方一些人权卫士的乱疆遏华图谋必定一败涂地   \n",
       "803                           企业防治性骚扰的法律责任需进一步明确   \n",
       "\n",
       "                                    title  label  \\\n",
       "707               汪文斌：美国炒作“实验室泄漏说”到底意欲何为？      0   \n",
       "3375                  馒头掺卫生纸？8月谣言：老套路 新花样      1   \n",
       "3524                  假期将至，这些关于旅游的谣言你信了吗？      1   \n",
       "8355             千万别信！近期朋友圈十大谣言！第一个就骗了很多人      1   \n",
       "2375                                           0   \n",
       "...                                   ...    ...   \n",
       "5737  【查證】台南市史博館路口發生假車禍與假警察事件？警：勿轉傳未經證實訊息      1   \n",
       "3208                          这些谣言中老年人要当心      1   \n",
       "6026        【假圖片】俄羅斯在街上放獅子防止民眾外出？2016電影場景      1   \n",
       "646                   新疆人权成果再次捅破西方炮制的弥天大谎      0   \n",
       "803            防治职场性骚扰，机制怎么建？责任怎么担？专家这样说→      0   \n",
       "\n",
       "                                        tokenized_claim  \\\n",
       "707   汪文斌 美国 炒作 实验室 泄漏 是 美 一己 私利 损害 的 是 国际 公益 和 各国 人...   \n",
       "3375     2018 年 8 月 山西大同 两 人 因 房屋 漏水 引发 矛盾 男子 把 女 邻居 砍死   \n",
       "3524                                   飞机 有 辐射 孕妇 不能 乘坐   \n",
       "8355  车管所 年 审新 规 车辆 逾期 未 检 车管所 将 予以 锁定 需要 车主 本人 去 车管...   \n",
       "2375  2020 年 5 月 27 日 美股 集体 收高 道 指涨 逾 520 点 瑞幸 咖啡 大 ...   \n",
       "...                                                 ...   \n",
       "5737  2021 年 月 14 日時 有 网友 爆料 台南市 史博館 路口 發生 假車 禍 與 假警...   \n",
       "3208                                     微信 免费 时代 即将 结束   \n",
       "6026                             俄羅斯 在 街上 放 獅子 防止 民眾 外出   \n",
       "646   新疆 人权 成果 再次 捅破 西方 炮制 的 弥天大谎 西方 一些 人权 卫士 的 乱疆遏 ...   \n",
       "803                           企业 防治 性骚扰 的 法律责任 需 进一步 明确   \n",
       "\n",
       "                                    tokenized_title  \n",
       "707                      汪文斌 美国 炒作 实验室 泄漏 说 到底 意欲何为  \n",
       "3375                        馒头 掺 卫生纸 8 月 谣言 老套路 新花样  \n",
       "3524                   假期 将 至 这些 关于 旅游 的 谣言 你 信 了 吗  \n",
       "8355              千万别 信 近期 朋友圈 十大 谣言 第一个 就 骗 了 很多 人  \n",
       "2375                                                 \n",
       "...                                             ...  \n",
       "5737  查證 台南市 史博館 路口 發生 假車 禍 與 假警察 事件 警 勿 轉傳 未經 證實訊息  \n",
       "3208                                这些 谣言 中老年人 要 当心  \n",
       "6026         假 圖片 俄羅斯 在 街上 放 獅子 防止 民眾 外出 2016 電影場 景  \n",
       "646                     新疆 人权 成果 再次 捅破 西方 炮制 的 弥天大谎  \n",
       "803               防治 职场 性骚扰 机制 怎么 建 责任 怎么 担 专家 这样 说  \n",
       "\n",
       "[6847 rows x 5 columns]"
      ]
     },
     "execution_count": 25,
     "metadata": {},
     "output_type": "execute_result"
    }
   ],
   "source": [
    "jieba_df_train"
   ]
  },
  {
   "cell_type": "code",
   "execution_count": 26,
   "id": "776881ca",
   "metadata": {},
   "outputs": [
    {
     "data": {
      "text/html": [
       "<div>\n",
       "<style scoped>\n",
       "    .dataframe tbody tr th:only-of-type {\n",
       "        vertical-align: middle;\n",
       "    }\n",
       "\n",
       "    .dataframe tbody tr th {\n",
       "        vertical-align: top;\n",
       "    }\n",
       "\n",
       "    .dataframe thead th {\n",
       "        text-align: right;\n",
       "    }\n",
       "</style>\n",
       "<table border=\"1\" class=\"dataframe\">\n",
       "  <thead>\n",
       "    <tr style=\"text-align: right;\">\n",
       "      <th></th>\n",
       "      <th>claim</th>\n",
       "      <th>title</th>\n",
       "      <th>label</th>\n",
       "      <th>tokenized_claim</th>\n",
       "      <th>tokenized_title</th>\n",
       "    </tr>\n",
       "  </thead>\n",
       "  <tbody>\n",
       "    <tr>\n",
       "      <th>6857</th>\n",
       "      <td>疫苗不起作用。</td>\n",
       "      <td>【錯誤】網傳圖片「英國數據 不應該讓你孩子打新冠疫苗13個理由」？</td>\n",
       "      <td>1</td>\n",
       "      <td>疫苗 不起作用</td>\n",
       "      <td>錯誤 網傳 圖片 英國 數據 不 應 該 讓 你 孩子 打新 冠 疫苗 13 個 理由</td>\n",
       "    </tr>\n",
       "    <tr>\n",
       "      <th>8630</th>\n",
       "      <td>乾咳加打噴嚏加其他症狀就等於冠狀病毒</td>\n",
       "      <td>【易誤解】乾咳加打噴嚏加其他症狀就等於冠狀病毒？衛福部：不能這樣診斷</td>\n",
       "      <td>1</td>\n",
       "      <td>乾咳 加打 噴嚏 加 其他 症狀 就 等 於冠狀 病毒</td>\n",
       "      <td>易 誤解 乾咳 加打 噴嚏 加 其他 症狀 就 等 於冠狀 病毒 衛福部 不能 這樣 診斷</td>\n",
       "    </tr>\n",
       "    <tr>\n",
       "      <th>5517</th>\n",
       "      <td>陳昭輝醫師和華通電訊有限公司真的匯給你錢,可是事後地下錢莊來催討。</td>\n",
       "      <td>【假LINE】真的匯給你錢,可是事後地下錢莊來催討？陳昭輝醫師、華通電訊躺著也中槍</td>\n",
       "      <td>1</td>\n",
       "      <td>陳昭輝 醫師 和 華通 電訊 有限公司 真的 匯 給 你 錢 可是 事 後 地下 錢莊 來 催討</td>\n",
       "      <td>假 LINE 真的 匯 給 你 錢 可是 事 後 地下 錢莊 來 催討 陳昭輝 醫師 華通 ...</td>\n",
       "    </tr>\n",
       "    <tr>\n",
       "      <th>4778</th>\n",
       "      <td>立百病毒具有超強抗生素抗藥性；在中國、亞洲已經爆發。</td>\n",
       "      <td>【錯誤】台灣外電新聞稱「立百病毒具有超強抗生素抗藥性；在中國、亞洲已經爆發」?</td>\n",
       "      <td>1</td>\n",
       "      <td>立百 病毒 具有 超強 抗生素 抗藥 性 在 中國 亞洲 已經 爆發</td>\n",
       "      <td>錯誤 台灣 外電 新聞 稱 立百 病毒 具有 超強 抗生素 抗藥 性 在 中國 亞洲 已經 爆發</td>\n",
       "    </tr>\n",
       "    <tr>\n",
       "      <th>845</th>\n",
       "      <td>如果把人类基因演化的过程想象成一棵树，末次盛冰期之前的东亚人，即田园洞人相关人群，和现代东亚...</td>\n",
       "      <td>冰河时期的东亚人和我们是一种人吗？</td>\n",
       "      <td>0</td>\n",
       "      <td>如果 把 人类基因 演化 的 过程 想象 成 一棵树 末次 盛 冰期 之前 的 东亚人 即 ...</td>\n",
       "      <td>冰河时期 的 东亚人 和 我们 是 一种 人 吗</td>\n",
       "    </tr>\n",
       "    <tr>\n",
       "      <th>...</th>\n",
       "      <td>...</td>\n",
       "      <td>...</td>\n",
       "      <td>...</td>\n",
       "      <td>...</td>\n",
       "      <td>...</td>\n",
       "    </tr>\n",
       "    <tr>\n",
       "      <th>9609</th>\n",
       "      <td>含代可可脂的巧克力一定健康</td>\n",
       "      <td>高钙奶真的更补钙？小心食品包装上竟藏着这些\"陷阱\"</td>\n",
       "      <td>1</td>\n",
       "      <td>含代 可可 脂的 巧克力 一定 健康</td>\n",
       "      <td>高 钙奶 真的 更 补钙 小心 食品包装 上 竟 藏 着 这些 陷阱</td>\n",
       "    </tr>\n",
       "    <tr>\n",
       "      <th>1517</th>\n",
       "      <td>中国专家研发新型脊柱内镜手术技术，提高安全性和效率。</td>\n",
       "      <td></td>\n",
       "      <td>0</td>\n",
       "      <td>中国 专家 研发 新型 脊柱 内镜 手术 技术 提高 安全性 和 效率</td>\n",
       "      <td></td>\n",
       "    </tr>\n",
       "    <tr>\n",
       "      <th>1979</th>\n",
       "      <td>《当家主母》开播，茅子俊再演古装搭档蒋勤勤。</td>\n",
       "      <td></td>\n",
       "      <td>0</td>\n",
       "      <td>当家 主母 开播 茅子 俊 再演 古装 搭档 蒋勤勤</td>\n",
       "      <td></td>\n",
       "    </tr>\n",
       "    <tr>\n",
       "      <th>4015</th>\n",
       "      <td>2018年3月苏家屯出现人贩子。</td>\n",
       "      <td>苏家屯出现人贩子？ 网警辟谣：假的！</td>\n",
       "      <td>1</td>\n",
       "      <td>2018 年 3 月 苏家屯 出现 人贩子</td>\n",
       "      <td>苏家屯 出现 人贩子 网警 辟谣 假 的</td>\n",
       "    </tr>\n",
       "    <tr>\n",
       "      <th>9416</th>\n",
       "      <td>儿童用药只要减半就好。</td>\n",
       "      <td>儿童用药只要“减半”就好？假的</td>\n",
       "      <td>1</td>\n",
       "      <td>儿童 用药 只要 减半 就 好</td>\n",
       "      <td>儿童 用药 只要 减半 就 好 假 的</td>\n",
       "    </tr>\n",
       "  </tbody>\n",
       "</table>\n",
       "<p>1711 rows × 5 columns</p>\n",
       "</div>"
      ],
      "text/plain": [
       "                                                  claim  \\\n",
       "6857                                            疫苗不起作用。   \n",
       "8630                                 乾咳加打噴嚏加其他症狀就等於冠狀病毒   \n",
       "5517                  陳昭輝醫師和華通電訊有限公司真的匯給你錢,可是事後地下錢莊來催討。   \n",
       "4778                         立百病毒具有超強抗生素抗藥性；在中國、亞洲已經爆發。   \n",
       "845   如果把人类基因演化的过程想象成一棵树，末次盛冰期之前的东亚人，即田园洞人相关人群，和现代东亚...   \n",
       "...                                                 ...   \n",
       "9609                                      含代可可脂的巧克力一定健康   \n",
       "1517                         中国专家研发新型脊柱内镜手术技术，提高安全性和效率。   \n",
       "1979                             《当家主母》开播，茅子俊再演古装搭档蒋勤勤。   \n",
       "4015                                   2018年3月苏家屯出现人贩子。   \n",
       "9416                                        儿童用药只要减半就好。   \n",
       "\n",
       "                                          title  label  \\\n",
       "6857          【錯誤】網傳圖片「英國數據 不應該讓你孩子打新冠疫苗13個理由」？      1   \n",
       "8630         【易誤解】乾咳加打噴嚏加其他症狀就等於冠狀病毒？衛福部：不能這樣診斷      1   \n",
       "5517  【假LINE】真的匯給你錢,可是事後地下錢莊來催討？陳昭輝醫師、華通電訊躺著也中槍      1   \n",
       "4778    【錯誤】台灣外電新聞稱「立百病毒具有超強抗生素抗藥性；在中國、亞洲已經爆發」?      1   \n",
       "845                           冰河时期的东亚人和我们是一种人吗？      0   \n",
       "...                                         ...    ...   \n",
       "9609                  高钙奶真的更补钙？小心食品包装上竟藏着这些\"陷阱\"      1   \n",
       "1517                                                 0   \n",
       "1979                                                 0   \n",
       "4015                         苏家屯出现人贩子？ 网警辟谣：假的！      1   \n",
       "9416                            儿童用药只要“减半”就好？假的      1   \n",
       "\n",
       "                                        tokenized_claim  \\\n",
       "6857                                            疫苗 不起作用   \n",
       "8630                        乾咳 加打 噴嚏 加 其他 症狀 就 等 於冠狀 病毒   \n",
       "5517   陳昭輝 醫師 和 華通 電訊 有限公司 真的 匯 給 你 錢 可是 事 後 地下 錢莊 來 催討   \n",
       "4778                 立百 病毒 具有 超強 抗生素 抗藥 性 在 中國 亞洲 已經 爆發   \n",
       "845   如果 把 人类基因 演化 的 过程 想象 成 一棵树 末次 盛 冰期 之前 的 东亚人 即 ...   \n",
       "...                                                 ...   \n",
       "9609                                 含代 可可 脂的 巧克力 一定 健康   \n",
       "1517                中国 专家 研发 新型 脊柱 内镜 手术 技术 提高 安全性 和 效率   \n",
       "1979                         当家 主母 开播 茅子 俊 再演 古装 搭档 蒋勤勤   \n",
       "4015                              2018 年 3 月 苏家屯 出现 人贩子   \n",
       "9416                                    儿童 用药 只要 减半 就 好   \n",
       "\n",
       "                                        tokenized_title  \n",
       "6857        錯誤 網傳 圖片 英國 數據 不 應 該 讓 你 孩子 打新 冠 疫苗 13 個 理由  \n",
       "8630      易 誤解 乾咳 加打 噴嚏 加 其他 症狀 就 等 於冠狀 病毒 衛福部 不能 這樣 診斷  \n",
       "5517  假 LINE 真的 匯 給 你 錢 可是 事 後 地下 錢莊 來 催討 陳昭輝 醫師 華通 ...  \n",
       "4778   錯誤 台灣 外電 新聞 稱 立百 病毒 具有 超強 抗生素 抗藥 性 在 中國 亞洲 已經 爆發  \n",
       "845                            冰河时期 的 东亚人 和 我们 是 一种 人 吗  \n",
       "...                                                 ...  \n",
       "9609                 高 钙奶 真的 更 补钙 小心 食品包装 上 竟 藏 着 这些 陷阱  \n",
       "1517                                                     \n",
       "1979                                                     \n",
       "4015                               苏家屯 出现 人贩子 网警 辟谣 假 的  \n",
       "9416                                儿童 用药 只要 减半 就 好 假 的  \n",
       "\n",
       "[1711 rows x 5 columns]"
      ]
     },
     "execution_count": 26,
     "metadata": {},
     "output_type": "execute_result"
    }
   ],
   "source": [
    "jieba_df_test"
   ]
  },
  {
   "cell_type": "markdown",
   "id": "86ac4628",
   "metadata": {},
   "source": [
    "# Feature Extraction"
   ]
  },
  {
   "cell_type": "markdown",
   "id": "74104f75",
   "metadata": {},
   "source": [
    "Transform train and test dataset into numerical feature"
   ]
  },
  {
   "cell_type": "code",
   "execution_count": 27,
   "id": "bf879bd8",
   "metadata": {},
   "outputs": [],
   "source": [
    "MAX_NUM_WORDS = 10000\n",
    "tokenizer = keras \\\n",
    "    .preprocessing \\\n",
    "    .text \\\n",
    "    .Tokenizer(num_words=MAX_NUM_WORDS)"
   ]
  },
  {
   "cell_type": "code",
   "execution_count": 28,
   "id": "0e7a7741",
   "metadata": {},
   "outputs": [],
   "source": [
    "corpus_train = jieba_df_train.tokenized_claim + jieba_df_train.tokenized_title\n",
    "corpus_test = jieba_df_test.tokenized_claim + jieba_df_test.tokenized_title"
   ]
  },
  {
   "cell_type": "code",
   "execution_count": 29,
   "id": "5e8b66e2",
   "metadata": {},
   "outputs": [
    {
     "name": "stdout",
     "output_type": "stream",
     "text": [
      "False\n",
      "False\n"
     ]
    }
   ],
   "source": [
    "print(corpus_train.isna().any())\n",
    "print(corpus_test.isna().any())"
   ]
  },
  {
   "cell_type": "code",
   "execution_count": 30,
   "id": "db2e34a1",
   "metadata": {},
   "outputs": [],
   "source": [
    "# Convert text to numerical\n",
    "tokenizer.fit_on_texts(corpus_train)\n",
    "x_train = tokenizer \\\n",
    "    .texts_to_sequences(corpus_train)\n",
    "\n",
    "x_test = tokenizer \\\n",
    "    .texts_to_sequences(\n",
    "        corpus_test)"
   ]
  },
  {
   "cell_type": "code",
   "execution_count": 31,
   "id": "be09468a",
   "metadata": {},
   "outputs": [
    {
     "data": {
      "text/plain": [
       "[83,\n",
       " 2,\n",
       " 47,\n",
       " 3,\n",
       " 786,\n",
       " 13,\n",
       " 98,\n",
       " 9408,\n",
       " 4818,\n",
       " 526,\n",
       " 7583,\n",
       " 389,\n",
       " 118,\n",
       " 423,\n",
       " 7584,\n",
       " 5741,\n",
       " 47,\n",
       " 3,\n",
       " 17,\n",
       " 4080,\n",
       " 4081]"
      ]
     },
     "execution_count": 31,
     "metadata": {},
     "output_type": "execute_result"
    }
   ],
   "source": [
    "x_train[1]"
   ]
  },
  {
   "cell_type": "code",
   "execution_count": 32,
   "id": "71c91fdb",
   "metadata": {},
   "outputs": [
    {
     "name": "stdout",
     "output_type": "stream",
     "text": [
      "['汪文斌', '美国', '炒作', '实验室', '泄漏', '是', '美', '一己', '私利', '损害', '的', '是', '国际', '公益', '和', '各国', '人民', '的', '生命', '美国', '炒作', '实验室', '泄漏', '说', '到底']\n"
     ]
    }
   ],
   "source": [
    "for seq in x_train[:1]:\n",
    "    print([tokenizer.index_word[idx] for idx in seq])"
   ]
  },
  {
   "cell_type": "code",
   "execution_count": 33,
   "id": "efca8da9",
   "metadata": {},
   "outputs": [],
   "source": [
    "# Add zero padding\n",
    "MAX_SEQUENCE_LENGTH = 30\n",
    "\n",
    "x_train = keras \\\n",
    "    .preprocessing \\\n",
    "    .sequence \\\n",
    "    .pad_sequences(x_train, \n",
    "                   maxlen=MAX_SEQUENCE_LENGTH)\n",
    "\n",
    "x_test = keras \\\n",
    "    .preprocessing \\\n",
    "    .sequence \\\n",
    "    .pad_sequences(\n",
    "        x_test, \n",
    "        maxlen=MAX_SEQUENCE_LENGTH)"
   ]
  },
  {
   "cell_type": "code",
   "execution_count": 34,
   "id": "1f108887",
   "metadata": {},
   "outputs": [
    {
     "name": "stdout",
     "output_type": "stream",
     "text": [
      "[   0    0    0    0    0    0    0    0  739 5744 4822 4087    1  883\n",
      " 5745    5  929 5746  739 5744 4822 5745    5  929 5746 7587   15   78\n",
      "   37 4088]\n",
      "[   0    0    0    0    0    0    0    0    0    0    0    0    0    0\n",
      "    0    0    0    0    0    0    0  400   42 4043  431  151   42 4043\n",
      "  431   65]\n"
     ]
    }
   ],
   "source": [
    "print(x_train[9])\n",
    "print(x_test[9])"
   ]
  },
  {
   "cell_type": "code",
   "execution_count": 35,
   "id": "a50c0033",
   "metadata": {
    "scrolled": true
   },
   "outputs": [
    {
     "name": "stdout",
     "output_type": "stream",
     "text": [
      "all sequence length of news 30 !\n",
      "all sequence length of news 30 !\n"
     ]
    }
   ],
   "source": [
    "# Check if the sequence length of news is 30\n",
    "for seq in x_train:\n",
    "    assert len(seq) == 30\n",
    "    \n",
    "print(\"all sequence length of news 30 !\")\n",
    "\n",
    "\n",
    "for seq in x_test:\n",
    "    assert len(seq) == 30\n",
    "    \n",
    "print(\"all sequence length of news 30 !\")"
   ]
  },
  {
   "cell_type": "markdown",
   "id": "afe83955",
   "metadata": {},
   "source": [
    "Transform y-train into numerical feature"
   ]
  },
  {
   "cell_type": "code",
   "execution_count": 36,
   "id": "c635a746",
   "metadata": {},
   "outputs": [
    {
     "data": {
      "text/plain": [
       "array([[1., 0.],\n",
       "       [0., 1.],\n",
       "       [0., 1.],\n",
       "       [0., 1.],\n",
       "       [1., 0.]], dtype=float32)"
      ]
     },
     "execution_count": 36,
     "metadata": {},
     "output_type": "execute_result"
    }
   ],
   "source": [
    "y_train = np.asarray(jieba_df_train[\"label\"]).astype('float32')\n",
    "\n",
    "# One-hot Encoding\n",
    "y_train = keras \\\n",
    "    .utils \\\n",
    "    .to_categorical(y_train)\n",
    "\n",
    "y_train[:5]"
   ]
  },
  {
   "cell_type": "code",
   "execution_count": 37,
   "id": "6328a544",
   "metadata": {},
   "outputs": [],
   "source": [
    "from sklearn.model_selection import train_test_split\n",
    "\n",
    "VALIDATION_RATIO = 0.2\n",
    "\n",
    "RANDOM_STATE = 4444\n",
    "\n",
    "x_train, x_val, y_train, y_val = train_test_split(x_train, y_train, test_size=VALIDATION_RATIO, random_state=RANDOM_STATE)"
   ]
  },
  {
   "cell_type": "code",
   "execution_count": 38,
   "id": "0161da2f",
   "metadata": {},
   "outputs": [
    {
     "data": {
      "text/plain": [
       "array([[   0,    0,    0, ..., 1273, 1163,    1],\n",
       "       [   0,    0,    0, ...,  166, 2351,  906],\n",
       "       [   0,    0,    0, ...,   15,  579,  279],\n",
       "       ...,\n",
       "       [   0,    0,    0, ...,  952,   23,  996],\n",
       "       [   0,    0,    0, ..., 2566, 3775,  821],\n",
       "       [   0,    0,    0, ...,   56, 5665, 7370]])"
      ]
     },
     "execution_count": 38,
     "metadata": {},
     "output_type": "execute_result"
    }
   ],
   "source": [
    "x_val"
   ]
  },
  {
   "cell_type": "code",
   "execution_count": 39,
   "id": "e39b14fc",
   "metadata": {},
   "outputs": [
    {
     "name": "stdout",
     "output_type": "stream",
     "text": [
      "Training Set\n",
      "----------\n",
      "x_train: (5477, 30)\n",
      "y_train : (5477, 2)\n",
      "----------\n",
      "x1_val:   (1370, 30)\n",
      "y_val :   (1370, 2)\n",
      "----------\n",
      "Test Set\n"
     ]
    }
   ],
   "source": [
    "print(\"Training Set\")\n",
    "print(\"-\" * 10)\n",
    "print(f\"x_train: {x_train.shape}\")\n",
    "print(f\"y_train : {y_train.shape}\")\n",
    "\n",
    "print(\"-\" * 10)\n",
    "print(f\"x1_val:   {x_val.shape}\")\n",
    "print(f\"y_val :   {y_val.shape}\")\n",
    "print(\"-\" * 10)\n",
    "print(\"Test Set\")"
   ]
  },
  {
   "cell_type": "markdown",
   "id": "5a5dfe2f",
   "metadata": {},
   "source": [
    "## Word2Vec"
   ]
  },
  {
   "cell_type": "code",
   "execution_count": 40,
   "id": "f551ec02",
   "metadata": {},
   "outputs": [],
   "source": [
    "w2v_train = jieba_df.tokenized_claim + jieba_df.tokenized_title"
   ]
  },
  {
   "cell_type": "code",
   "execution_count": 41,
   "id": "ac2f8da7",
   "metadata": {},
   "outputs": [
    {
     "name": "stderr",
     "output_type": "stream",
     "text": [
      "C:\\Users\\User\\anaconda3\\lib\\site-packages\\paramiko\\transport.py:219: CryptographyDeprecationWarning: Blowfish has been deprecated\n",
      "  \"class\": algorithms.Blowfish,\n"
     ]
    }
   ],
   "source": [
    "from gensim.models import Word2Vec\n",
    "\n",
    "# Assuming \"sentences\" is a list of tokenized sentences\n",
    "model_word2vec = Word2Vec(w2v_train, vector_size=256, window=5, min_count=5, sg=0)"
   ]
  },
  {
   "cell_type": "code",
   "execution_count": 42,
   "id": "ec589833",
   "metadata": {},
   "outputs": [],
   "source": [
    "# Save the Word2Vec model\n",
    "model_word2vec.save(\"C:/Users/User/Downloads/word2vec_model\")"
   ]
  },
  {
   "cell_type": "code",
   "execution_count": 43,
   "id": "a91ebb23",
   "metadata": {},
   "outputs": [],
   "source": [
    "model_word2vec = Word2Vec.load(\"C:/Users/User/Downloads/word2vec_model\")"
   ]
  },
  {
   "cell_type": "code",
   "execution_count": 44,
   "id": "880111de",
   "metadata": {},
   "outputs": [
    {
     "name": "stdout",
     "output_type": "stream",
     "text": [
      "佳 0.5670649409294128\n",
      "脉 0.5338876247406006\n",
      "严 0.443361759185791\n",
      "正 0.42332392930984497\n",
      "夺 0.40579527616500854\n"
     ]
    }
   ],
   "source": [
    "similar_words = model_word2vec.wv.most_similar(\"新\", topn=5)\n",
    "for word, score in similar_words:\n",
    "    print(word, score)"
   ]
  },
  {
   "cell_type": "code",
   "execution_count": 45,
   "id": "cc9463c5",
   "metadata": {},
   "outputs": [],
   "source": [
    "embedding_matrix = np.zeros((len(tokenizer.word_index) + 1, 256))  # Assuming 256 is the vector size\n",
    "\n",
    "for word, i in tokenizer.word_index.items():\n",
    "    if word in model_word2vec.wv:\n",
    "        embedding_matrix[i] = model_word2vec.wv[word]"
   ]
  },
  {
   "cell_type": "markdown",
   "id": "cca41952",
   "metadata": {},
   "source": [
    "# Modeling"
   ]
  },
  {
   "cell_type": "code",
   "execution_count": 46,
   "id": "d3607796",
   "metadata": {},
   "outputs": [],
   "source": [
    "# Create empty list for performance comparison\n",
    "accuracies = []\n",
    "precisions = []\n",
    "recalls = []\n",
    "f1_scores = []\n",
    "\n",
    "# Create a function to append the result to the list\n",
    "def performance_comparison(y_test, model):\n",
    "    a = accuracy_score(y_test, model)\n",
    "    p =precision_score(y_test, model)\n",
    "    r =recall_score(y_test, model)\n",
    "    f =f1_score(y_test, model)\n",
    "    \n",
    "    accuracies.append(round(a, 4) * 100)\n",
    "    precisions.append(round(p, 4) * 100)\n",
    "    recalls.append(round(r, 4) * 100)\n",
    "    f1_scores.append(round(f, 4) * 100)"
   ]
  },
  {
   "cell_type": "code",
   "execution_count": 47,
   "id": "72d97e5c",
   "metadata": {},
   "outputs": [],
   "source": [
    "# Batch size for model training\n",
    "BATCH_SIZE = 512\n",
    "\n",
    "# Times for repeat training\n",
    "NUM_EPOCHS = 50\n",
    "\n",
    "def model_training(model, y_test):\n",
    "    # Configure the training process\n",
    "    lr = 1e-3\n",
    "    opt = Adam(learning_rate=lr)\n",
    "    model.compile(\n",
    "        optimizer=opt,\n",
    "        loss='categorical_crossentropy',\n",
    "        metrics=['accuracy'])\n",
    "    \n",
    "    # Actual training model\n",
    "    history = model.fit(\n",
    "        # Input 1 numbers of sequence length 30\n",
    "        x=x_train, \n",
    "        y=y_train,\n",
    "        batch_size=BATCH_SIZE,\n",
    "        epochs=NUM_EPOCHS,\n",
    "\n",
    "        # Loss and accuracy after epoch validation\n",
    "        validation_data=(\n",
    "            x_val, \n",
    "            y_val\n",
    "        ),\n",
    "        # Shuffle the data\n",
    "        shuffle=True\n",
    "    )\n",
    "    \n",
    "    model_prediction = model.predict(x_test)\n",
    "    model_prediction_int = np.argmax(model_prediction, axis=1)\n",
    "    \n",
    "    performance_comparison(y_test, model_prediction_int)"
   ]
  },
  {
   "cell_type": "code",
   "execution_count": 48,
   "id": "b5cf2ccd",
   "metadata": {},
   "outputs": [],
   "source": [
    "# Get the label from data frame\n",
    "y_test_int = jieba_df_test[\"label\"]\n",
    "\n",
    "# Create a function for performance evaluation\n",
    "def model_prediction(model, y_test):\n",
    "    model_prediction = model.predict(x_test)\n",
    "    model_prediction_int = np.argmax(model_prediction, axis=1)\n",
    "    \n",
    "    # Classification Report\n",
    "    report = classification_report(y_test, model_prediction_int, digits=4)\n",
    "    print(\"-\"*80)\n",
    "    print(report)\n",
    "    \n",
    "    # Get unique class labels from the true labels\n",
    "    class_labels = np.unique(y_test)\n",
    "\n",
    "    # Display the confusion matrix\n",
    "    cm = confusion_matrix(y_test, model_prediction_int)\n",
    "    disp = ConfusionMatrixDisplay(confusion_matrix=cm, display_labels=class_labels)\n",
    "    disp.plot(cmap='Blues', values_format='d')\n",
    "    print(\"-\"*80)\n",
    "    plt.show()\n"
   ]
  },
  {
   "cell_type": "markdown",
   "id": "37e46620",
   "metadata": {},
   "source": [
    "## LSTM"
   ]
  },
  {
   "cell_type": "code",
   "execution_count": 49,
   "id": "8da72a7f",
   "metadata": {},
   "outputs": [],
   "source": [
    "# Number of Class\n",
    "NUM_CLASSES = 2\n",
    "\n",
    "# Maximum number of words in Dict\n",
    "MAX_NUM_WORDS = 10000\n",
    "\n",
    "# Maximum sequence length of news\n",
    "MAX_SEQUENCE_LENGTH = 30\n",
    "\n",
    "# Embedding Dimension\n",
    "NUM_EMBEDDING_DIM = 256\n",
    "\n",
    "# Number of LSTM units\n",
    "NUM_LSTM_UNITS = 128"
   ]
  },
  {
   "cell_type": "code",
   "execution_count": 50,
   "id": "7f559b3d",
   "metadata": {},
   "outputs": [
    {
     "name": "stdout",
     "output_type": "stream",
     "text": [
      "Model: \"model\"\n",
      "_________________________________________________________________\n",
      " Layer (type)                Output Shape              Param #   \n",
      "=================================================================\n",
      " input_1 (InputLayer)        [(None, 30)]              0         \n",
      "                                                                 \n",
      " embedding (Embedding)       (None, 30, 256)           2560000   \n",
      "                                                                 \n",
      " lstm (LSTM)                 (None, 128)               197120    \n",
      "                                                                 \n",
      " dense (Dense)               (None, 2)                 258       \n",
      "                                                                 \n",
      "=================================================================\n",
      "Total params: 2757378 (10.52 MB)\n",
      "Trainable params: 2757378 (10.52 MB)\n",
      "Non-trainable params: 0 (0.00 Byte)\n",
      "_________________________________________________________________\n"
     ]
    }
   ],
   "source": [
    "# Model building (Siamese LSTM)\n",
    "\n",
    "# Define a single input for sequences\n",
    "input_sequence = Input(shape=(MAX_SEQUENCE_LENGTH,), dtype='int32')\n",
    "\n",
    "# Embedding\n",
    "embedding_layer = Embedding(MAX_NUM_WORDS, NUM_EMBEDDING_DIM)\n",
    "embedded_sequence = embedding_layer(input_sequence)\n",
    "\n",
    "# LSTM\n",
    "shared_lstm = LSTM(NUM_LSTM_UNITS)\n",
    "sequence_output = shared_lstm(embedded_sequence)\n",
    "\n",
    "# Dense layer for classification\n",
    "output_layer = Dense(units=NUM_CLASSES, activation='softmax')\n",
    "predictions = output_layer(sequence_output)\n",
    "\n",
    "\n",
    "# Model Creation\n",
    "model_lstm = Model(inputs=input_sequence, outputs=predictions)\n",
    "\n",
    "model_lstm.summary()"
   ]
  },
  {
   "cell_type": "code",
   "execution_count": 51,
   "id": "eee65c9a",
   "metadata": {
    "scrolled": true
   },
   "outputs": [
    {
     "name": "stdout",
     "output_type": "stream",
     "text": [
      "Epoch 1/50\n",
      "11/11 [==============================] - 6s 353ms/step - loss: 0.6425 - accuracy: 0.6863 - val_loss: 0.5634 - val_accuracy: 0.7255\n",
      "Epoch 2/50\n",
      "11/11 [==============================] - 4s 344ms/step - loss: 0.4090 - accuracy: 0.8297 - val_loss: 0.3575 - val_accuracy: 0.8569\n",
      "Epoch 3/50\n",
      "11/11 [==============================] - 4s 351ms/step - loss: 0.2080 - accuracy: 0.9211 - val_loss: 0.3177 - val_accuracy: 0.8832\n",
      "Epoch 4/50\n",
      "11/11 [==============================] - 3s 300ms/step - loss: 0.1067 - accuracy: 0.9659 - val_loss: 0.3472 - val_accuracy: 0.8839\n",
      "Epoch 5/50\n",
      "11/11 [==============================] - 3s 283ms/step - loss: 0.0534 - accuracy: 0.9828 - val_loss: 0.4193 - val_accuracy: 0.8715\n",
      "Epoch 6/50\n",
      "11/11 [==============================] - 3s 318ms/step - loss: 0.0316 - accuracy: 0.9905 - val_loss: 0.5568 - val_accuracy: 0.8686\n",
      "Epoch 7/50\n",
      "11/11 [==============================] - 4s 334ms/step - loss: 0.0190 - accuracy: 0.9943 - val_loss: 0.5376 - val_accuracy: 0.8642\n",
      "Epoch 8/50\n",
      "11/11 [==============================] - 3s 249ms/step - loss: 0.0096 - accuracy: 0.9969 - val_loss: 0.6347 - val_accuracy: 0.8679\n",
      "Epoch 9/50\n",
      "11/11 [==============================] - 3s 250ms/step - loss: 0.0057 - accuracy: 0.9982 - val_loss: 0.7489 - val_accuracy: 0.8708\n",
      "Epoch 10/50\n",
      "11/11 [==============================] - 3s 245ms/step - loss: 0.0059 - accuracy: 0.9980 - val_loss: 0.6713 - val_accuracy: 0.8613\n",
      "Epoch 11/50\n",
      "11/11 [==============================] - 3s 241ms/step - loss: 0.0050 - accuracy: 0.9982 - val_loss: 0.8198 - val_accuracy: 0.8620\n",
      "Epoch 12/50\n",
      "11/11 [==============================] - 3s 252ms/step - loss: 0.0048 - accuracy: 0.9991 - val_loss: 0.6239 - val_accuracy: 0.8664\n",
      "Epoch 13/50\n",
      "11/11 [==============================] - 3s 267ms/step - loss: 0.0043 - accuracy: 0.9993 - val_loss: 0.7205 - val_accuracy: 0.8650\n",
      "Epoch 14/50\n",
      "11/11 [==============================] - 3s 248ms/step - loss: 0.0044 - accuracy: 0.9991 - val_loss: 0.8261 - val_accuracy: 0.8620\n",
      "Epoch 15/50\n",
      "11/11 [==============================] - 3s 236ms/step - loss: 0.0037 - accuracy: 0.9993 - val_loss: 0.8674 - val_accuracy: 0.8555\n",
      "Epoch 16/50\n",
      "11/11 [==============================] - 3s 236ms/step - loss: 0.0029 - accuracy: 0.9993 - val_loss: 0.8309 - val_accuracy: 0.8555\n",
      "Epoch 17/50\n",
      "11/11 [==============================] - 3s 238ms/step - loss: 0.0039 - accuracy: 0.9991 - val_loss: 0.7092 - val_accuracy: 0.8569\n",
      "Epoch 18/50\n",
      "11/11 [==============================] - 3s 239ms/step - loss: 0.0034 - accuracy: 0.9993 - val_loss: 0.6782 - val_accuracy: 0.8628\n",
      "Epoch 19/50\n",
      "11/11 [==============================] - 3s 234ms/step - loss: 0.0030 - accuracy: 0.9989 - val_loss: 0.8743 - val_accuracy: 0.8562\n",
      "Epoch 20/50\n",
      "11/11 [==============================] - 3s 238ms/step - loss: 0.0032 - accuracy: 0.9995 - val_loss: 0.8442 - val_accuracy: 0.8606\n",
      "Epoch 21/50\n",
      "11/11 [==============================] - 3s 232ms/step - loss: 0.0044 - accuracy: 0.9989 - val_loss: 0.8417 - val_accuracy: 0.8547\n",
      "Epoch 22/50\n",
      "11/11 [==============================] - 3s 232ms/step - loss: 0.0023 - accuracy: 0.9993 - val_loss: 0.8333 - val_accuracy: 0.8613\n",
      "Epoch 23/50\n",
      "11/11 [==============================] - 3s 232ms/step - loss: 0.0022 - accuracy: 0.9989 - val_loss: 0.9224 - val_accuracy: 0.8591\n",
      "Epoch 24/50\n",
      "11/11 [==============================] - 3s 232ms/step - loss: 0.0023 - accuracy: 0.9993 - val_loss: 0.7638 - val_accuracy: 0.8635\n",
      "Epoch 25/50\n",
      "11/11 [==============================] - 3s 231ms/step - loss: 0.0031 - accuracy: 0.9991 - val_loss: 0.7946 - val_accuracy: 0.8620\n",
      "Epoch 26/50\n",
      "11/11 [==============================] - 3s 232ms/step - loss: 0.0015 - accuracy: 0.9991 - val_loss: 0.9180 - val_accuracy: 0.8555\n",
      "Epoch 27/50\n",
      "11/11 [==============================] - 3s 231ms/step - loss: 0.0019 - accuracy: 0.9989 - val_loss: 0.8378 - val_accuracy: 0.8620\n",
      "Epoch 28/50\n",
      "11/11 [==============================] - 3s 229ms/step - loss: 0.0014 - accuracy: 0.9991 - val_loss: 0.8923 - val_accuracy: 0.8599\n",
      "Epoch 29/50\n",
      "11/11 [==============================] - 3s 231ms/step - loss: 0.0013 - accuracy: 0.9993 - val_loss: 0.9677 - val_accuracy: 0.8569\n",
      "Epoch 30/50\n",
      "11/11 [==============================] - 3s 231ms/step - loss: 0.0018 - accuracy: 0.9993 - val_loss: 0.8641 - val_accuracy: 0.8562\n",
      "Epoch 31/50\n",
      "11/11 [==============================] - 3s 229ms/step - loss: 0.0012 - accuracy: 0.9995 - val_loss: 0.8959 - val_accuracy: 0.8599\n",
      "Epoch 32/50\n",
      "11/11 [==============================] - 3s 230ms/step - loss: 0.0011 - accuracy: 0.9991 - val_loss: 0.9979 - val_accuracy: 0.8555\n",
      "Epoch 33/50\n",
      "11/11 [==============================] - 3s 231ms/step - loss: 0.0016 - accuracy: 0.9995 - val_loss: 1.0369 - val_accuracy: 0.8577\n",
      "Epoch 34/50\n",
      "11/11 [==============================] - 3s 231ms/step - loss: 0.0015 - accuracy: 0.9989 - val_loss: 0.8535 - val_accuracy: 0.8613\n",
      "Epoch 35/50\n",
      "11/11 [==============================] - 3s 231ms/step - loss: 0.0014 - accuracy: 0.9993 - val_loss: 0.9348 - val_accuracy: 0.8562\n",
      "Epoch 36/50\n",
      "11/11 [==============================] - 3s 232ms/step - loss: 0.0014 - accuracy: 0.9991 - val_loss: 1.0144 - val_accuracy: 0.8591\n",
      "Epoch 37/50\n",
      "11/11 [==============================] - 2s 226ms/step - loss: 0.0011 - accuracy: 0.9995 - val_loss: 1.0244 - val_accuracy: 0.8569\n",
      "Epoch 38/50\n",
      "11/11 [==============================] - 2s 226ms/step - loss: 0.0016 - accuracy: 0.9993 - val_loss: 0.9787 - val_accuracy: 0.8606\n",
      "Epoch 39/50\n",
      "11/11 [==============================] - 3s 266ms/step - loss: 0.0011 - accuracy: 0.9995 - val_loss: 0.9400 - val_accuracy: 0.8599\n",
      "Epoch 40/50\n",
      "11/11 [==============================] - 3s 253ms/step - loss: 0.0011 - accuracy: 0.9993 - val_loss: 1.0517 - val_accuracy: 0.8555\n",
      "Epoch 41/50\n",
      "11/11 [==============================] - 4s 369ms/step - loss: 0.0011 - accuracy: 0.9995 - val_loss: 1.1186 - val_accuracy: 0.8540\n",
      "Epoch 42/50\n",
      "11/11 [==============================] - 3s 315ms/step - loss: 0.0012 - accuracy: 0.9989 - val_loss: 1.0222 - val_accuracy: 0.8584\n",
      "Epoch 43/50\n",
      "11/11 [==============================] - 4s 345ms/step - loss: 0.0010 - accuracy: 0.9995 - val_loss: 1.0624 - val_accuracy: 0.8555\n",
      "Epoch 44/50\n",
      "11/11 [==============================] - 3s 312ms/step - loss: 0.0011 - accuracy: 0.9995 - val_loss: 1.0987 - val_accuracy: 0.8540\n",
      "Epoch 45/50\n",
      "11/11 [==============================] - 3s 315ms/step - loss: 0.0010 - accuracy: 0.9991 - val_loss: 1.1062 - val_accuracy: 0.8547\n",
      "Epoch 46/50\n",
      "11/11 [==============================] - 3s 257ms/step - loss: 0.0011 - accuracy: 0.9993 - val_loss: 1.1415 - val_accuracy: 0.8533\n",
      "Epoch 47/50\n",
      "11/11 [==============================] - 3s 254ms/step - loss: 0.0010 - accuracy: 0.9995 - val_loss: 1.0443 - val_accuracy: 0.8584\n",
      "Epoch 48/50\n",
      "11/11 [==============================] - 3s 232ms/step - loss: 0.0013 - accuracy: 0.9993 - val_loss: 1.0752 - val_accuracy: 0.8562\n",
      "Epoch 49/50\n",
      "11/11 [==============================] - 3s 235ms/step - loss: 0.0012 - accuracy: 0.9993 - val_loss: 1.1291 - val_accuracy: 0.8569\n",
      "Epoch 50/50\n",
      "11/11 [==============================] - 3s 238ms/step - loss: 9.3775e-04 - accuracy: 0.9995 - val_loss: 1.0907 - val_accuracy: 0.8555\n",
      "54/54 [==============================] - 1s 8ms/step\n"
     ]
    }
   ],
   "source": [
    "model_training(model_lstm, y_test_int)"
   ]
  },
  {
   "cell_type": "code",
   "execution_count": 52,
   "id": "e96a58f8",
   "metadata": {
    "scrolled": false
   },
   "outputs": [
    {
     "name": "stdout",
     "output_type": "stream",
     "text": [
      "54/54 [==============================] - 0s 8ms/step\n",
      "--------------------------------------------------------------------------------\n",
      "              precision    recall  f1-score   support\n",
      "\n",
      "           0     0.8361    0.8431    0.8396       714\n",
      "           1     0.8870    0.8816    0.8843       997\n",
      "\n",
      "    accuracy                         0.8656      1711\n",
      "   macro avg     0.8615    0.8624    0.8620      1711\n",
      "weighted avg     0.8658    0.8656    0.8657      1711\n",
      "\n",
      "--------------------------------------------------------------------------------\n"
     ]
    },
    {
     "data": {
      "image/png": "[encoded data removed]",
      "text/plain": [
       "<Figure size 640x480 with 2 Axes>"
      ]
     },
     "metadata": {},
     "output_type": "display_data"
    }
   ],
   "source": [
    "model_prediction(model_lstm, y_test_int)"
   ]
  },
  {
   "cell_type": "markdown",
   "id": "2ce07a92",
   "metadata": {},
   "source": [
    "## LSTM with Word2Vec"
   ]
  },
  {
   "cell_type": "code",
   "execution_count": 53,
   "id": "77406669",
   "metadata": {},
   "outputs": [
    {
     "name": "stdout",
     "output_type": "stream",
     "text": [
      "Model: \"model_1\"\n",
      "_________________________________________________________________\n",
      " Layer (type)                Output Shape              Param #   \n",
      "=================================================================\n",
      " input_2 (InputLayer)        [(None, 30)]              0         \n",
      "                                                                 \n",
      " embedding_1 (Embedding)     (None, 30, 256)           7189760   \n",
      "                                                                 \n",
      " lstm_1 (LSTM)               (None, 128)               197120    \n",
      "                                                                 \n",
      " dense_1 (Dense)             (None, 2)                 258       \n",
      "                                                                 \n",
      "=================================================================\n",
      "Total params: 7387138 (28.18 MB)\n",
      "Trainable params: 197378 (771.01 KB)\n",
      "Non-trainable params: 7189760 (27.43 MB)\n",
      "_________________________________________________________________\n"
     ]
    }
   ],
   "source": [
    "# Define a single input for sequences\n",
    "input_sequence = Input(shape=(MAX_SEQUENCE_LENGTH,), dtype='int32')\n",
    "\n",
    "input_dim = len(model_word2vec.wv.key_to_index) + 1\n",
    "\n",
    "\n",
    "# Updated embedding layer based on the Word2Vec model's vocabulary size\n",
    "embedding_layer = Embedding(\n",
    "    input_dim=embedding_matrix.shape[0],\n",
    "    output_dim=NUM_EMBEDDING_DIM,\n",
    "    weights=[embedding_matrix],\n",
    "    input_length=MAX_SEQUENCE_LENGTH,\n",
    "    trainable=False\n",
    ")\n",
    "\n",
    "embedded_sequence = embedding_layer(input_sequence)\n",
    "\n",
    "# LSTM\n",
    "shared_lstm = LSTM(NUM_LSTM_UNITS)\n",
    "sequence_output = shared_lstm(embedded_sequence)\n",
    "\n",
    "# Dense layer for classification\n",
    "output_layer = Dense(units=NUM_CLASSES, activation='softmax')\n",
    "predictions = output_layer(sequence_output)\n",
    "\n",
    "\n",
    "# Model Creation\n",
    "model_lstm_w2v = Model(inputs=input_sequence, outputs=predictions)\n",
    "\n",
    "model_lstm_w2v.summary()"
   ]
  },
  {
   "cell_type": "code",
   "execution_count": 54,
   "id": "b9ac2968",
   "metadata": {},
   "outputs": [
    {
     "name": "stdout",
     "output_type": "stream",
     "text": [
      "Epoch 1/50\n",
      "11/11 [==============================] - 4s 229ms/step - loss: 0.5904 - accuracy: 0.6925 - val_loss: 0.5624 - val_accuracy: 0.7146\n",
      "Epoch 2/50\n",
      "11/11 [==============================] - 2s 188ms/step - loss: 0.5195 - accuracy: 0.7606 - val_loss: 0.5168 - val_accuracy: 0.7613\n",
      "Epoch 3/50\n",
      "11/11 [==============================] - 3s 240ms/step - loss: 0.4799 - accuracy: 0.7804 - val_loss: 0.4873 - val_accuracy: 0.7562\n",
      "Epoch 4/50\n",
      "11/11 [==============================] - 3s 238ms/step - loss: 0.4619 - accuracy: 0.7873 - val_loss: 0.4898 - val_accuracy: 0.7686\n",
      "Epoch 5/50\n",
      "11/11 [==============================] - 2s 199ms/step - loss: 0.4467 - accuracy: 0.8024 - val_loss: 0.4969 - val_accuracy: 0.7796\n",
      "Epoch 6/50\n",
      "11/11 [==============================] - 2s 181ms/step - loss: 0.4335 - accuracy: 0.8130 - val_loss: 0.4693 - val_accuracy: 0.7759\n",
      "Epoch 7/50\n",
      "11/11 [==============================] - 2s 211ms/step - loss: 0.4222 - accuracy: 0.8161 - val_loss: 0.4700 - val_accuracy: 0.7788\n",
      "Epoch 8/50\n",
      "11/11 [==============================] - 2s 179ms/step - loss: 0.4183 - accuracy: 0.8145 - val_loss: 0.4666 - val_accuracy: 0.7876\n",
      "Epoch 9/50\n",
      "11/11 [==============================] - 2s 170ms/step - loss: 0.4091 - accuracy: 0.8172 - val_loss: 0.4569 - val_accuracy: 0.7854\n",
      "Epoch 10/50\n",
      "11/11 [==============================] - 2s 183ms/step - loss: 0.3993 - accuracy: 0.8273 - val_loss: 0.4619 - val_accuracy: 0.7869\n",
      "Epoch 11/50\n",
      "11/11 [==============================] - 2s 224ms/step - loss: 0.3902 - accuracy: 0.8287 - val_loss: 0.4565 - val_accuracy: 0.7927\n",
      "Epoch 12/50\n",
      "11/11 [==============================] - 2s 220ms/step - loss: 0.3827 - accuracy: 0.8331 - val_loss: 0.4702 - val_accuracy: 0.7766\n",
      "Epoch 13/50\n",
      "11/11 [==============================] - 2s 201ms/step - loss: 0.3825 - accuracy: 0.8351 - val_loss: 0.4493 - val_accuracy: 0.7978\n",
      "Epoch 14/50\n",
      "11/11 [==============================] - 2s 171ms/step - loss: 0.3698 - accuracy: 0.8424 - val_loss: 0.4578 - val_accuracy: 0.7942\n",
      "Epoch 15/50\n",
      "11/11 [==============================] - 2s 173ms/step - loss: 0.3602 - accuracy: 0.8470 - val_loss: 0.4530 - val_accuracy: 0.7993\n",
      "Epoch 16/50\n",
      "11/11 [==============================] - 2s 172ms/step - loss: 0.3550 - accuracy: 0.8494 - val_loss: 0.4649 - val_accuracy: 0.7927\n",
      "Epoch 17/50\n",
      "11/11 [==============================] - 2s 185ms/step - loss: 0.3466 - accuracy: 0.8552 - val_loss: 0.4690 - val_accuracy: 0.7832\n",
      "Epoch 18/50\n",
      "11/11 [==============================] - 2s 175ms/step - loss: 0.3378 - accuracy: 0.8565 - val_loss: 0.4621 - val_accuracy: 0.7891\n",
      "Epoch 19/50\n",
      "11/11 [==============================] - 2s 195ms/step - loss: 0.3310 - accuracy: 0.8623 - val_loss: 0.4778 - val_accuracy: 0.7985\n",
      "Epoch 20/50\n",
      "11/11 [==============================] - 2s 174ms/step - loss: 0.3159 - accuracy: 0.8693 - val_loss: 0.4842 - val_accuracy: 0.8066\n",
      "Epoch 21/50\n",
      "11/11 [==============================] - 2s 174ms/step - loss: 0.3154 - accuracy: 0.8682 - val_loss: 0.4793 - val_accuracy: 0.7766\n",
      "Epoch 22/50\n",
      "11/11 [==============================] - 2s 177ms/step - loss: 0.3064 - accuracy: 0.8755 - val_loss: 0.4875 - val_accuracy: 0.7905\n",
      "Epoch 23/50\n",
      "11/11 [==============================] - 2s 181ms/step - loss: 0.2940 - accuracy: 0.8788 - val_loss: 0.4886 - val_accuracy: 0.8044\n",
      "Epoch 24/50\n",
      "11/11 [==============================] - 2s 186ms/step - loss: 0.2753 - accuracy: 0.8886 - val_loss: 0.5038 - val_accuracy: 0.7927\n",
      "Epoch 25/50\n",
      "11/11 [==============================] - 2s 198ms/step - loss: 0.2622 - accuracy: 0.8950 - val_loss: 0.5264 - val_accuracy: 0.7920\n",
      "Epoch 26/50\n",
      "11/11 [==============================] - 2s 217ms/step - loss: 0.2550 - accuracy: 0.8970 - val_loss: 0.5309 - val_accuracy: 0.7825\n",
      "Epoch 27/50\n",
      "11/11 [==============================] - 2s 208ms/step - loss: 0.2538 - accuracy: 0.9003 - val_loss: 0.5338 - val_accuracy: 0.7978\n",
      "Epoch 28/50\n",
      "11/11 [==============================] - 3s 245ms/step - loss: 0.2380 - accuracy: 0.9067 - val_loss: 0.5446 - val_accuracy: 0.7934\n",
      "Epoch 29/50\n",
      "11/11 [==============================] - 2s 208ms/step - loss: 0.2256 - accuracy: 0.9136 - val_loss: 0.5705 - val_accuracy: 0.7898\n",
      "Epoch 30/50\n",
      "11/11 [==============================] - 2s 172ms/step - loss: 0.2144 - accuracy: 0.9156 - val_loss: 0.5977 - val_accuracy: 0.7905\n",
      "Epoch 31/50\n",
      "11/11 [==============================] - 2s 174ms/step - loss: 0.2062 - accuracy: 0.9189 - val_loss: 0.5885 - val_accuracy: 0.7898\n",
      "Epoch 32/50\n",
      "11/11 [==============================] - 2s 169ms/step - loss: 0.2029 - accuracy: 0.9177 - val_loss: 0.6268 - val_accuracy: 0.7956\n",
      "Epoch 33/50\n",
      "11/11 [==============================] - 2s 173ms/step - loss: 0.2015 - accuracy: 0.9228 - val_loss: 0.6000 - val_accuracy: 0.8007\n",
      "Epoch 34/50\n",
      "11/11 [==============================] - 2s 169ms/step - loss: 0.1847 - accuracy: 0.9292 - val_loss: 0.6485 - val_accuracy: 0.7883\n",
      "Epoch 35/50\n",
      "11/11 [==============================] - 2s 169ms/step - loss: 0.1738 - accuracy: 0.9330 - val_loss: 0.6376 - val_accuracy: 0.8000\n",
      "Epoch 36/50\n",
      "11/11 [==============================] - 2s 171ms/step - loss: 0.1636 - accuracy: 0.9359 - val_loss: 0.6702 - val_accuracy: 0.7934\n",
      "Epoch 37/50\n",
      "11/11 [==============================] - 2s 193ms/step - loss: 0.1544 - accuracy: 0.9387 - val_loss: 0.7212 - val_accuracy: 0.7869\n",
      "Epoch 38/50\n",
      "11/11 [==============================] - 2s 199ms/step - loss: 0.1508 - accuracy: 0.9416 - val_loss: 0.7175 - val_accuracy: 0.7934\n",
      "Epoch 39/50\n",
      "11/11 [==============================] - 2s 184ms/step - loss: 0.1399 - accuracy: 0.9452 - val_loss: 0.7497 - val_accuracy: 0.8000\n",
      "Epoch 40/50\n",
      "11/11 [==============================] - 2s 224ms/step - loss: 0.1324 - accuracy: 0.9522 - val_loss: 0.7449 - val_accuracy: 0.7920\n",
      "Epoch 41/50\n",
      "11/11 [==============================] - 2s 179ms/step - loss: 0.1224 - accuracy: 0.9523 - val_loss: 0.7625 - val_accuracy: 0.8000\n",
      "Epoch 42/50\n",
      "11/11 [==============================] - 2s 190ms/step - loss: 0.1211 - accuracy: 0.9520 - val_loss: 0.8167 - val_accuracy: 0.8073\n",
      "Epoch 43/50\n",
      "11/11 [==============================] - 2s 203ms/step - loss: 0.1104 - accuracy: 0.9606 - val_loss: 0.8377 - val_accuracy: 0.7912\n",
      "Epoch 44/50\n",
      "11/11 [==============================] - 2s 193ms/step - loss: 0.1113 - accuracy: 0.9573 - val_loss: 0.8654 - val_accuracy: 0.7978\n",
      "Epoch 45/50\n",
      "11/11 [==============================] - 2s 214ms/step - loss: 0.1124 - accuracy: 0.9565 - val_loss: 0.8708 - val_accuracy: 0.7964\n",
      "Epoch 46/50\n",
      "11/11 [==============================] - 2s 233ms/step - loss: 0.1046 - accuracy: 0.9606 - val_loss: 0.8518 - val_accuracy: 0.7971\n",
      "Epoch 47/50\n",
      "11/11 [==============================] - 2s 199ms/step - loss: 0.1045 - accuracy: 0.9604 - val_loss: 0.8601 - val_accuracy: 0.7985\n",
      "Epoch 48/50\n",
      "11/11 [==============================] - 2s 207ms/step - loss: 0.0994 - accuracy: 0.9618 - val_loss: 0.9380 - val_accuracy: 0.7971\n",
      "Epoch 49/50\n",
      "11/11 [==============================] - 3s 252ms/step - loss: 0.0937 - accuracy: 0.9657 - val_loss: 0.8906 - val_accuracy: 0.7993\n",
      "Epoch 50/50\n",
      "11/11 [==============================] - 2s 188ms/step - loss: 0.0913 - accuracy: 0.9679 - val_loss: 0.9176 - val_accuracy: 0.7912\n",
      "54/54 [==============================] - 1s 12ms/step\n"
     ]
    }
   ],
   "source": [
    "model_training(model_lstm_w2v, y_test_int)"
   ]
  },
  {
   "cell_type": "code",
   "execution_count": 55,
   "id": "05fd3197",
   "metadata": {},
   "outputs": [
    {
     "name": "stdout",
     "output_type": "stream",
     "text": [
      "54/54 [==============================] - 1s 9ms/step\n",
      "--------------------------------------------------------------------------------\n",
      "              precision    recall  f1-score   support\n",
      "\n",
      "           0     0.7750    0.7913    0.7831       714\n",
      "           1     0.8483    0.8355    0.8418       997\n",
      "\n",
      "    accuracy                         0.8171      1711\n",
      "   macro avg     0.8117    0.8134    0.8125      1711\n",
      "weighted avg     0.8177    0.8171    0.8173      1711\n",
      "\n",
      "--------------------------------------------------------------------------------\n"
     ]
    },
    {
     "data": {
      "image/png": "[encoded data removed]",
      "text/plain": [
       "<Figure size 640x480 with 2 Axes>"
      ]
     },
     "metadata": {},
     "output_type": "display_data"
    }
   ],
   "source": [
    "model_prediction(model_lstm_w2v, y_test_int)"
   ]
  },
  {
   "cell_type": "markdown",
   "id": "4fb6268c",
   "metadata": {},
   "source": [
    "## CNN"
   ]
  },
  {
   "cell_type": "code",
   "execution_count": 56,
   "id": "150e531a",
   "metadata": {},
   "outputs": [
    {
     "name": "stdout",
     "output_type": "stream",
     "text": [
      "Model: \"model_2\"\n",
      "_________________________________________________________________\n",
      " Layer (type)                Output Shape              Param #   \n",
      "=================================================================\n",
      " input_3 (InputLayer)        [(None, 30)]              0         \n",
      "                                                                 \n",
      " embedding_2 (Embedding)     (None, 30, 256)           2560000   \n",
      "                                                                 \n",
      " conv1d (Conv1D)             (None, 28, 32)            24608     \n",
      "                                                                 \n",
      " max_pooling1d (MaxPooling1  (None, 14, 32)            0         \n",
      " D)                                                              \n",
      "                                                                 \n",
      " flatten (Flatten)           (None, 448)               0         \n",
      "                                                                 \n",
      " dense_2 (Dense)             (None, 64)                28736     \n",
      "                                                                 \n",
      " dense_3 (Dense)             (None, 2)                 130       \n",
      "                                                                 \n",
      "=================================================================\n",
      "Total params: 2613474 (9.97 MB)\n",
      "Trainable params: 2613474 (9.97 MB)\n",
      "Non-trainable params: 0 (0.00 Byte)\n",
      "_________________________________________________________________\n"
     ]
    }
   ],
   "source": [
    "# Define the first input layer\n",
    "input_sequence = Input(\n",
    "    shape=(MAX_SEQUENCE_LENGTH, ), \n",
    "    dtype='int32')\n",
    "\n",
    "\n",
    "# Create branches for each input\n",
    "embedded_sequence  = Embedding(input_dim=MAX_NUM_WORDS, output_dim=NUM_EMBEDDING_DIM)(input_sequence)\n",
    "conv1d_layer  = Conv1D(32, kernel_size=3, activation='relu')(embedded_sequence)\n",
    "maxpooling_layer  = MaxPooling1D(pool_size=2)(conv1d_layer)\n",
    "flattened_layer  = Flatten()(maxpooling_layer)\n",
    "\n",
    "\n",
    "# Additional processing layers\n",
    "dense_layer  = Dense(64, activation='relu')(flattened_layer)\n",
    "\n",
    "# Output layer\n",
    "output = Dense(NUM_CLASSES, activation='softmax')(dense_layer)\n",
    "\n",
    "# Create the model\n",
    "model_cnn = Model(inputs=input_sequence, outputs=output)\n",
    "\n",
    "model_cnn.summary()"
   ]
  },
  {
   "cell_type": "code",
   "execution_count": 57,
   "id": "6186e87f",
   "metadata": {},
   "outputs": [
    {
     "name": "stdout",
     "output_type": "stream",
     "text": [
      "Epoch 1/50\n",
      "11/11 [==============================] - 2s 100ms/step - loss: 0.6672 - accuracy: 0.5760 - val_loss: 0.6375 - val_accuracy: 0.6000\n",
      "Epoch 2/50\n",
      "11/11 [==============================] - 1s 61ms/step - loss: 0.5513 - accuracy: 0.7177 - val_loss: 0.5317 - val_accuracy: 0.7416\n",
      "Epoch 3/50\n",
      "11/11 [==============================] - 1s 69ms/step - loss: 0.3471 - accuracy: 0.8751 - val_loss: 0.3640 - val_accuracy: 0.8555\n",
      "Epoch 4/50\n",
      "11/11 [==============================] - 1s 63ms/step - loss: 0.1515 - accuracy: 0.9545 - val_loss: 0.3139 - val_accuracy: 0.8759\n",
      "Epoch 5/50\n",
      "11/11 [==============================] - 1s 74ms/step - loss: 0.0611 - accuracy: 0.9803 - val_loss: 0.3443 - val_accuracy: 0.8839\n",
      "Epoch 6/50\n",
      "11/11 [==============================] - 1s 81ms/step - loss: 0.0277 - accuracy: 0.9929 - val_loss: 0.3797 - val_accuracy: 0.8788\n",
      "Epoch 7/50\n",
      "11/11 [==============================] - 1s 63ms/step - loss: 0.0155 - accuracy: 0.9949 - val_loss: 0.3999 - val_accuracy: 0.8788\n",
      "Epoch 8/50\n",
      "11/11 [==============================] - 1s 60ms/step - loss: 0.0089 - accuracy: 0.9978 - val_loss: 0.4152 - val_accuracy: 0.8737\n",
      "Epoch 9/50\n",
      "11/11 [==============================] - 1s 70ms/step - loss: 0.0067 - accuracy: 0.9982 - val_loss: 0.4347 - val_accuracy: 0.8759\n",
      "Epoch 10/50\n",
      "11/11 [==============================] - 1s 66ms/step - loss: 0.0057 - accuracy: 0.9980 - val_loss: 0.4428 - val_accuracy: 0.8774\n",
      "Epoch 11/50\n",
      "11/11 [==============================] - 1s 77ms/step - loss: 0.0035 - accuracy: 0.9995 - val_loss: 0.4512 - val_accuracy: 0.8818\n",
      "Epoch 12/50\n",
      "11/11 [==============================] - 1s 75ms/step - loss: 0.0031 - accuracy: 0.9993 - val_loss: 0.4661 - val_accuracy: 0.8796\n",
      "Epoch 13/50\n",
      "11/11 [==============================] - 1s 78ms/step - loss: 0.0026 - accuracy: 0.9993 - val_loss: 0.4739 - val_accuracy: 0.8803\n",
      "Epoch 14/50\n",
      "11/11 [==============================] - 1s 69ms/step - loss: 0.0026 - accuracy: 0.9989 - val_loss: 0.4846 - val_accuracy: 0.8818\n",
      "Epoch 15/50\n",
      "11/11 [==============================] - 1s 64ms/step - loss: 0.0028 - accuracy: 0.9993 - val_loss: 0.4938 - val_accuracy: 0.8774\n",
      "Epoch 16/50\n",
      "11/11 [==============================] - 1s 63ms/step - loss: 0.0024 - accuracy: 0.9991 - val_loss: 0.4988 - val_accuracy: 0.8810\n",
      "Epoch 17/50\n",
      "11/11 [==============================] - 1s 64ms/step - loss: 0.0024 - accuracy: 0.9991 - val_loss: 0.5074 - val_accuracy: 0.8818\n",
      "Epoch 18/50\n",
      "11/11 [==============================] - 1s 70ms/step - loss: 0.0017 - accuracy: 0.9993 - val_loss: 0.5117 - val_accuracy: 0.8818\n",
      "Epoch 19/50\n",
      "11/11 [==============================] - 1s 63ms/step - loss: 0.0020 - accuracy: 0.9993 - val_loss: 0.5182 - val_accuracy: 0.8810\n",
      "Epoch 20/50\n",
      "11/11 [==============================] - 1s 98ms/step - loss: 0.0017 - accuracy: 0.9993 - val_loss: 0.5252 - val_accuracy: 0.8825\n",
      "Epoch 21/50\n",
      "11/11 [==============================] - 1s 106ms/step - loss: 0.0020 - accuracy: 0.9989 - val_loss: 0.5298 - val_accuracy: 0.8818\n",
      "Epoch 22/50\n",
      "11/11 [==============================] - 1s 95ms/step - loss: 0.0017 - accuracy: 0.9995 - val_loss: 0.5328 - val_accuracy: 0.8810\n",
      "Epoch 23/50\n",
      "11/11 [==============================] - 1s 83ms/step - loss: 0.0016 - accuracy: 0.9995 - val_loss: 0.5387 - val_accuracy: 0.8796\n",
      "Epoch 24/50\n",
      "11/11 [==============================] - 1s 78ms/step - loss: 0.0016 - accuracy: 0.9991 - val_loss: 0.5432 - val_accuracy: 0.8796\n",
      "Epoch 25/50\n",
      "11/11 [==============================] - 1s 85ms/step - loss: 0.0017 - accuracy: 0.9991 - val_loss: 0.5468 - val_accuracy: 0.8796\n",
      "Epoch 26/50\n",
      "11/11 [==============================] - 1s 78ms/step - loss: 0.0015 - accuracy: 0.9993 - val_loss: 0.5540 - val_accuracy: 0.8810\n",
      "Epoch 27/50\n",
      "11/11 [==============================] - 1s 74ms/step - loss: 0.0020 - accuracy: 0.9991 - val_loss: 0.5555 - val_accuracy: 0.8818\n",
      "Epoch 28/50\n",
      "11/11 [==============================] - 1s 74ms/step - loss: 0.0015 - accuracy: 0.9993 - val_loss: 0.5572 - val_accuracy: 0.8803\n",
      "Epoch 29/50\n",
      "11/11 [==============================] - 1s 76ms/step - loss: 0.0022 - accuracy: 0.9995 - val_loss: 0.5565 - val_accuracy: 0.8825\n",
      "Epoch 30/50\n",
      "11/11 [==============================] - 1s 82ms/step - loss: 0.0016 - accuracy: 0.9991 - val_loss: 0.5626 - val_accuracy: 0.8818\n",
      "Epoch 31/50\n",
      "11/11 [==============================] - 1s 75ms/step - loss: 0.0014 - accuracy: 0.9993 - val_loss: 0.5686 - val_accuracy: 0.8774\n",
      "Epoch 32/50\n",
      "11/11 [==============================] - 1s 78ms/step - loss: 0.0021 - accuracy: 0.9995 - val_loss: 0.5717 - val_accuracy: 0.8781\n",
      "Epoch 33/50\n",
      "11/11 [==============================] - 1s 75ms/step - loss: 0.0019 - accuracy: 0.9991 - val_loss: 0.5691 - val_accuracy: 0.8803\n",
      "Epoch 34/50\n",
      "11/11 [==============================] - 1s 69ms/step - loss: 0.0018 - accuracy: 0.9993 - val_loss: 0.5713 - val_accuracy: 0.8803\n",
      "Epoch 35/50\n",
      "11/11 [==============================] - 1s 72ms/step - loss: 0.0015 - accuracy: 0.9993 - val_loss: 0.5738 - val_accuracy: 0.8796\n",
      "Epoch 36/50\n",
      "11/11 [==============================] - 1s 86ms/step - loss: 0.0014 - accuracy: 0.9993 - val_loss: 0.5806 - val_accuracy: 0.8788\n",
      "Epoch 37/50\n",
      "11/11 [==============================] - 1s 74ms/step - loss: 0.0017 - accuracy: 0.9993 - val_loss: 0.5801 - val_accuracy: 0.8796\n",
      "Epoch 38/50\n",
      "11/11 [==============================] - 1s 75ms/step - loss: 0.0022 - accuracy: 0.9989 - val_loss: 0.5827 - val_accuracy: 0.8810\n",
      "Epoch 39/50\n",
      "11/11 [==============================] - 1s 85ms/step - loss: 0.0020 - accuracy: 0.9995 - val_loss: 0.5902 - val_accuracy: 0.8796\n",
      "Epoch 40/50\n",
      "11/11 [==============================] - 1s 72ms/step - loss: 0.0020 - accuracy: 0.9993 - val_loss: 0.5848 - val_accuracy: 0.8796\n",
      "Epoch 41/50\n",
      "11/11 [==============================] - 1s 76ms/step - loss: 0.0021 - accuracy: 0.9991 - val_loss: 0.5852 - val_accuracy: 0.8788\n",
      "Epoch 42/50\n",
      "11/11 [==============================] - 1s 85ms/step - loss: 0.0015 - accuracy: 0.9995 - val_loss: 0.5797 - val_accuracy: 0.8818\n",
      "Epoch 43/50\n",
      "11/11 [==============================] - 1s 69ms/step - loss: 0.0020 - accuracy: 0.9995 - val_loss: 0.5799 - val_accuracy: 0.8796\n",
      "Epoch 44/50\n",
      "11/11 [==============================] - 1s 69ms/step - loss: 0.0017 - accuracy: 0.9991 - val_loss: 0.5842 - val_accuracy: 0.8810\n",
      "Epoch 45/50\n",
      "11/11 [==============================] - 1s 71ms/step - loss: 0.0017 - accuracy: 0.9993 - val_loss: 0.5885 - val_accuracy: 0.8781\n",
      "Epoch 46/50\n",
      "11/11 [==============================] - 1s 74ms/step - loss: 0.0013 - accuracy: 0.9995 - val_loss: 0.5859 - val_accuracy: 0.8796\n",
      "Epoch 47/50\n",
      "11/11 [==============================] - 1s 72ms/step - loss: 0.0022 - accuracy: 0.9993 - val_loss: 0.5889 - val_accuracy: 0.8788\n",
      "Epoch 48/50\n",
      "11/11 [==============================] - 1s 72ms/step - loss: 0.0017 - accuracy: 0.9987 - val_loss: 0.5834 - val_accuracy: 0.8810\n",
      "Epoch 49/50\n",
      "11/11 [==============================] - 1s 71ms/step - loss: 0.0018 - accuracy: 0.9987 - val_loss: 0.5874 - val_accuracy: 0.8781\n",
      "Epoch 50/50\n",
      "11/11 [==============================] - 1s 69ms/step - loss: 0.0019 - accuracy: 0.9991 - val_loss: 0.5859 - val_accuracy: 0.8803\n",
      "54/54 [==============================] - 0s 2ms/step\n"
     ]
    }
   ],
   "source": [
    "model_training(model_cnn, y_test_int)"
   ]
  },
  {
   "cell_type": "code",
   "execution_count": 58,
   "id": "896c7a50",
   "metadata": {
    "scrolled": true
   },
   "outputs": [
    {
     "name": "stdout",
     "output_type": "stream",
     "text": [
      "54/54 [==============================] - 0s 2ms/step\n",
      "--------------------------------------------------------------------------------\n",
      "              precision    recall  f1-score   support\n",
      "\n",
      "           0     0.8517    0.8529    0.8523       714\n",
      "           1     0.8946    0.8937    0.8941       997\n",
      "\n",
      "    accuracy                         0.8767      1711\n",
      "   macro avg     0.8732    0.8733    0.8732      1711\n",
      "weighted avg     0.8767    0.8767    0.8767      1711\n",
      "\n",
      "--------------------------------------------------------------------------------\n"
     ]
    },
    {
     "data": {
      "image/png": "[encoded data removed]",
      "text/plain": [
       "<Figure size 640x480 with 2 Axes>"
      ]
     },
     "metadata": {},
     "output_type": "display_data"
    }
   ],
   "source": [
    "model_prediction(model_cnn, y_test_int)"
   ]
  },
  {
   "cell_type": "markdown",
   "id": "debdb406",
   "metadata": {},
   "source": [
    "## CNN with Word2Vec"
   ]
  },
  {
   "cell_type": "code",
   "execution_count": 59,
   "id": "33fbc3e2",
   "metadata": {},
   "outputs": [
    {
     "name": "stdout",
     "output_type": "stream",
     "text": [
      "Model: \"model_3\"\n",
      "_________________________________________________________________\n",
      " Layer (type)                Output Shape              Param #   \n",
      "=================================================================\n",
      " input_4 (InputLayer)        [(None, 30)]              0         \n",
      "                                                                 \n",
      " embedding_3 (Embedding)     (None, 30, 256)           7189760   \n",
      "                                                                 \n",
      " conv1d_1 (Conv1D)           (None, 28, 32)            24608     \n",
      "                                                                 \n",
      " max_pooling1d_1 (MaxPoolin  (None, 14, 32)            0         \n",
      " g1D)                                                            \n",
      "                                                                 \n",
      " flatten_1 (Flatten)         (None, 448)               0         \n",
      "                                                                 \n",
      " dense_4 (Dense)             (None, 64)                28736     \n",
      "                                                                 \n",
      " dense_5 (Dense)             (None, 2)                 130       \n",
      "                                                                 \n",
      "=================================================================\n",
      "Total params: 7243234 (27.63 MB)\n",
      "Trainable params: 53474 (208.88 KB)\n",
      "Non-trainable params: 7189760 (27.43 MB)\n",
      "_________________________________________________________________\n"
     ]
    }
   ],
   "source": [
    "# Define the first input layer\n",
    "input_sequence = Input(\n",
    "    shape=(MAX_SEQUENCE_LENGTH, ), \n",
    "    dtype='int32')\n",
    "\n",
    "# Updated embedding layer based on the Word2Vec model's vocabulary size\n",
    "embedding_layer = Embedding(\n",
    "    input_dim=embedding_matrix.shape[0],\n",
    "    output_dim=NUM_EMBEDDING_DIM,\n",
    "    weights=[embedding_matrix],\n",
    "    input_length=MAX_SEQUENCE_LENGTH,\n",
    "    trainable=False\n",
    ")\n",
    "\n",
    "# Create branches for each input\n",
    "embedded_sequence  = embedding_layer(input_sequence)\n",
    "conv1d_layer  = Conv1D(32, kernel_size=3, activation='relu')(embedded_sequence)\n",
    "maxpooling_layer  = MaxPooling1D(pool_size=2)(conv1d_layer)\n",
    "flattened_layer  = Flatten()(maxpooling_layer)\n",
    "\n",
    "\n",
    "# Additional processing layers\n",
    "dense_layer  = Dense(64, activation='relu')(flattened_layer)\n",
    "\n",
    "# Output layer\n",
    "output = Dense(NUM_CLASSES, activation='softmax')(dense_layer)\n",
    "\n",
    "# Create the model\n",
    "model_cnn_w2v = Model(inputs=input_sequence, outputs=output)\n",
    "\n",
    "model_cnn_w2v.summary()"
   ]
  },
  {
   "cell_type": "code",
   "execution_count": 60,
   "id": "6d449e8b",
   "metadata": {},
   "outputs": [
    {
     "name": "stdout",
     "output_type": "stream",
     "text": [
      "Epoch 1/50\n",
      "11/11 [==============================] - 1s 63ms/step - loss: 0.6190 - accuracy: 0.6504 - val_loss: 0.5821 - val_accuracy: 0.6971\n",
      "Epoch 2/50\n",
      "11/11 [==============================] - 0s 29ms/step - loss: 0.5305 - accuracy: 0.7508 - val_loss: 0.5340 - val_accuracy: 0.7526\n",
      "Epoch 3/50\n",
      "11/11 [==============================] - 0s 30ms/step - loss: 0.4783 - accuracy: 0.7877 - val_loss: 0.5055 - val_accuracy: 0.7672\n",
      "Epoch 4/50\n",
      "11/11 [==============================] - 0s 29ms/step - loss: 0.4375 - accuracy: 0.8048 - val_loss: 0.4899 - val_accuracy: 0.7686\n",
      "Epoch 5/50\n",
      "11/11 [==============================] - 0s 31ms/step - loss: 0.4107 - accuracy: 0.8227 - val_loss: 0.4934 - val_accuracy: 0.7693\n",
      "Epoch 6/50\n",
      "11/11 [==============================] - 0s 32ms/step - loss: 0.3880 - accuracy: 0.8324 - val_loss: 0.4820 - val_accuracy: 0.7679\n",
      "Epoch 7/50\n",
      "11/11 [==============================] - 0s 30ms/step - loss: 0.3670 - accuracy: 0.8452 - val_loss: 0.4896 - val_accuracy: 0.7686\n",
      "Epoch 8/50\n",
      "11/11 [==============================] - 0s 30ms/step - loss: 0.3500 - accuracy: 0.8499 - val_loss: 0.4871 - val_accuracy: 0.7759\n",
      "Epoch 9/50\n",
      "11/11 [==============================] - 0s 32ms/step - loss: 0.3310 - accuracy: 0.8631 - val_loss: 0.4877 - val_accuracy: 0.7854\n",
      "Epoch 10/50\n",
      "11/11 [==============================] - 0s 30ms/step - loss: 0.3151 - accuracy: 0.8707 - val_loss: 0.4998 - val_accuracy: 0.7788\n",
      "Epoch 11/50\n",
      "11/11 [==============================] - 0s 30ms/step - loss: 0.2965 - accuracy: 0.8839 - val_loss: 0.5138 - val_accuracy: 0.7796\n",
      "Epoch 12/50\n",
      "11/11 [==============================] - 0s 32ms/step - loss: 0.2818 - accuracy: 0.8914 - val_loss: 0.5070 - val_accuracy: 0.7818\n",
      "Epoch 13/50\n",
      "11/11 [==============================] - 0s 30ms/step - loss: 0.2668 - accuracy: 0.8968 - val_loss: 0.5141 - val_accuracy: 0.7934\n",
      "Epoch 14/50\n",
      "11/11 [==============================] - 0s 28ms/step - loss: 0.2544 - accuracy: 0.9009 - val_loss: 0.5228 - val_accuracy: 0.7781\n",
      "Epoch 15/50\n",
      "11/11 [==============================] - 0s 33ms/step - loss: 0.2371 - accuracy: 0.9109 - val_loss: 0.5316 - val_accuracy: 0.7942\n",
      "Epoch 16/50\n",
      "11/11 [==============================] - 0s 28ms/step - loss: 0.2224 - accuracy: 0.9153 - val_loss: 0.5391 - val_accuracy: 0.7825\n",
      "Epoch 17/50\n",
      "11/11 [==============================] - 0s 30ms/step - loss: 0.2081 - accuracy: 0.9213 - val_loss: 0.5466 - val_accuracy: 0.7774\n",
      "Epoch 18/50\n",
      "11/11 [==============================] - 0s 33ms/step - loss: 0.1980 - accuracy: 0.9286 - val_loss: 0.5727 - val_accuracy: 0.7861\n",
      "Epoch 19/50\n",
      "11/11 [==============================] - 0s 30ms/step - loss: 0.1861 - accuracy: 0.9335 - val_loss: 0.5781 - val_accuracy: 0.7832\n",
      "Epoch 20/50\n",
      "11/11 [==============================] - 0s 30ms/step - loss: 0.1754 - accuracy: 0.9381 - val_loss: 0.5927 - val_accuracy: 0.7912\n",
      "Epoch 21/50\n",
      "11/11 [==============================] - 0s 33ms/step - loss: 0.1681 - accuracy: 0.9412 - val_loss: 0.5976 - val_accuracy: 0.7861\n",
      "Epoch 22/50\n",
      "11/11 [==============================] - 0s 30ms/step - loss: 0.1558 - accuracy: 0.9487 - val_loss: 0.6154 - val_accuracy: 0.7810\n",
      "Epoch 23/50\n",
      "11/11 [==============================] - 0s 28ms/step - loss: 0.1459 - accuracy: 0.9507 - val_loss: 0.6339 - val_accuracy: 0.7854\n",
      "Epoch 24/50\n",
      "11/11 [==============================] - 0s 31ms/step - loss: 0.1359 - accuracy: 0.9556 - val_loss: 0.6459 - val_accuracy: 0.7832\n",
      "Epoch 25/50\n",
      "11/11 [==============================] - 0s 30ms/step - loss: 0.1274 - accuracy: 0.9589 - val_loss: 0.6582 - val_accuracy: 0.7964\n",
      "Epoch 26/50\n",
      "11/11 [==============================] - 0s 30ms/step - loss: 0.1213 - accuracy: 0.9629 - val_loss: 0.6716 - val_accuracy: 0.7883\n",
      "Epoch 27/50\n",
      "11/11 [==============================] - 0s 33ms/step - loss: 0.1151 - accuracy: 0.9646 - val_loss: 0.6972 - val_accuracy: 0.7891\n",
      "Epoch 28/50\n",
      "11/11 [==============================] - 0s 28ms/step - loss: 0.1097 - accuracy: 0.9673 - val_loss: 0.7132 - val_accuracy: 0.7891\n",
      "Epoch 29/50\n",
      "11/11 [==============================] - 0s 30ms/step - loss: 0.1064 - accuracy: 0.9664 - val_loss: 0.7270 - val_accuracy: 0.7818\n",
      "Epoch 30/50\n",
      "11/11 [==============================] - 0s 33ms/step - loss: 0.1004 - accuracy: 0.9702 - val_loss: 0.7307 - val_accuracy: 0.7869\n",
      "Epoch 31/50\n",
      "11/11 [==============================] - 0s 30ms/step - loss: 0.0934 - accuracy: 0.9719 - val_loss: 0.7519 - val_accuracy: 0.7912\n",
      "Epoch 32/50\n",
      "11/11 [==============================] - 0s 30ms/step - loss: 0.0880 - accuracy: 0.9746 - val_loss: 0.7697 - val_accuracy: 0.7876\n",
      "Epoch 33/50\n",
      "11/11 [==============================] - 0s 31ms/step - loss: 0.0840 - accuracy: 0.9761 - val_loss: 0.7803 - val_accuracy: 0.7876\n",
      "Epoch 34/50\n",
      "11/11 [==============================] - 0s 30ms/step - loss: 0.0830 - accuracy: 0.9743 - val_loss: 0.8104 - val_accuracy: 0.7854\n",
      "Epoch 35/50\n",
      "11/11 [==============================] - 0s 31ms/step - loss: 0.0790 - accuracy: 0.9772 - val_loss: 0.8053 - val_accuracy: 0.7883\n",
      "Epoch 36/50\n",
      "11/11 [==============================] - 0s 33ms/step - loss: 0.0760 - accuracy: 0.9781 - val_loss: 0.8336 - val_accuracy: 0.7803\n",
      "Epoch 37/50\n",
      "11/11 [==============================] - 0s 30ms/step - loss: 0.0751 - accuracy: 0.9783 - val_loss: 0.8364 - val_accuracy: 0.7818\n",
      "Epoch 38/50\n",
      "11/11 [==============================] - 0s 28ms/step - loss: 0.0708 - accuracy: 0.9779 - val_loss: 0.8649 - val_accuracy: 0.7839\n",
      "Epoch 39/50\n",
      "11/11 [==============================] - 0s 33ms/step - loss: 0.0671 - accuracy: 0.9799 - val_loss: 0.8711 - val_accuracy: 0.7839\n",
      "Epoch 40/50\n",
      "11/11 [==============================] - 0s 30ms/step - loss: 0.0632 - accuracy: 0.9808 - val_loss: 0.8905 - val_accuracy: 0.7876\n",
      "Epoch 41/50\n",
      "11/11 [==============================] - 0s 28ms/step - loss: 0.0618 - accuracy: 0.9810 - val_loss: 0.9071 - val_accuracy: 0.7818\n",
      "Epoch 42/50\n",
      "11/11 [==============================] - 0s 33ms/step - loss: 0.0596 - accuracy: 0.9819 - val_loss: 0.9238 - val_accuracy: 0.7847\n",
      "Epoch 43/50\n",
      "11/11 [==============================] - 0s 30ms/step - loss: 0.0574 - accuracy: 0.9827 - val_loss: 0.9302 - val_accuracy: 0.7825\n",
      "Epoch 44/50\n",
      "11/11 [==============================] - 0s 30ms/step - loss: 0.0562 - accuracy: 0.9830 - val_loss: 0.9638 - val_accuracy: 0.7818\n",
      "Epoch 45/50\n",
      "11/11 [==============================] - 0s 31ms/step - loss: 0.0557 - accuracy: 0.9828 - val_loss: 0.9742 - val_accuracy: 0.7766\n",
      "Epoch 46/50\n",
      "11/11 [==============================] - 0s 30ms/step - loss: 0.0539 - accuracy: 0.9821 - val_loss: 0.9733 - val_accuracy: 0.7825\n",
      "Epoch 47/50\n",
      "11/11 [==============================] - 0s 31ms/step - loss: 0.0524 - accuracy: 0.9821 - val_loss: 1.0067 - val_accuracy: 0.7796\n",
      "Epoch 48/50\n",
      "11/11 [==============================] - 0s 33ms/step - loss: 0.0506 - accuracy: 0.9845 - val_loss: 1.0047 - val_accuracy: 0.7796\n",
      "Epoch 49/50\n",
      "11/11 [==============================] - 0s 29ms/step - loss: 0.0500 - accuracy: 0.9834 - val_loss: 1.0253 - val_accuracy: 0.7810\n",
      "Epoch 50/50\n",
      "11/11 [==============================] - 0s 29ms/step - loss: 0.0501 - accuracy: 0.9841 - val_loss: 1.0607 - val_accuracy: 0.7752\n",
      "54/54 [==============================] - 0s 3ms/step\n"
     ]
    }
   ],
   "source": [
    "model_training(model_cnn_w2v, y_test_int)"
   ]
  },
  {
   "cell_type": "code",
   "execution_count": 61,
   "id": "7bf50f3d",
   "metadata": {},
   "outputs": [
    {
     "name": "stdout",
     "output_type": "stream",
     "text": [
      "54/54 [==============================] - 0s 2ms/step\n",
      "--------------------------------------------------------------------------------\n",
      "              precision    recall  f1-score   support\n",
      "\n",
      "           0     0.7391    0.7815    0.7597       714\n",
      "           1     0.8368    0.8024    0.8193       997\n",
      "\n",
      "    accuracy                         0.7937      1711\n",
      "   macro avg     0.7879    0.7920    0.7895      1711\n",
      "weighted avg     0.7960    0.7937    0.7944      1711\n",
      "\n",
      "--------------------------------------------------------------------------------\n"
     ]
    },
    {
     "data": {
      "image/png": "[encoded data removed]",
      "text/plain": [
       "<Figure size 640x480 with 2 Axes>"
      ]
     },
     "metadata": {},
     "output_type": "display_data"
    }
   ],
   "source": [
    "model_prediction(model_cnn_w2v, y_test_int)"
   ]
  },
  {
   "cell_type": "markdown",
   "id": "67a19c63",
   "metadata": {},
   "source": [
    "## CNN-LSTM"
   ]
  },
  {
   "cell_type": "code",
   "execution_count": 62,
   "id": "932bc1fc",
   "metadata": {
    "scrolled": true
   },
   "outputs": [
    {
     "name": "stdout",
     "output_type": "stream",
     "text": [
      "Model: \"model_4\"\n",
      "__________________________________________________________________________________________________\n",
      " Layer (type)                Output Shape                 Param #   Connected to                  \n",
      "==================================================================================================\n",
      " input_5 (InputLayer)        [(None, 30)]                 0         []                            \n",
      "                                                                                                  \n",
      " embedding_4 (Embedding)     (None, 30, 256)              2560000   ['input_5[0][0]']             \n",
      "                                                                                                  \n",
      " conv1d_2 (Conv1D)           (None, 28, 32)               24608     ['embedding_4[0][0]']         \n",
      "                                                                                                  \n",
      " max_pooling1d_2 (MaxPoolin  (None, 14, 32)               0         ['conv1d_2[0][0]']            \n",
      " g1D)                                                                                             \n",
      "                                                                                                  \n",
      " flatten_2 (Flatten)         (None, 448)                  0         ['max_pooling1d_2[0][0]']     \n",
      "                                                                                                  \n",
      " lstm_2 (LSTM)               (None, 128)                  197120    ['embedding_4[0][0]']         \n",
      "                                                                                                  \n",
      " concatenate (Concatenate)   (None, 576)                  0         ['flatten_2[0][0]',           \n",
      "                                                                     'lstm_2[0][0]']              \n",
      "                                                                                                  \n",
      " dense_6 (Dense)             (None, 64)                   36928     ['concatenate[0][0]']         \n",
      "                                                                                                  \n",
      " dense_7 (Dense)             (None, 2)                    130       ['dense_6[0][0]']             \n",
      "                                                                                                  \n",
      "==================================================================================================\n",
      "Total params: 2818786 (10.75 MB)\n",
      "Trainable params: 2818786 (10.75 MB)\n",
      "Non-trainable params: 0 (0.00 Byte)\n",
      "__________________________________________________________________________________________________\n"
     ]
    }
   ],
   "source": [
    "# Define the input layer for sequences\n",
    "input_sequence = Input(shape=(MAX_SEQUENCE_LENGTH,), dtype='int32')\n",
    "\n",
    "# Embedding layer for sequences\n",
    "embedding_layer = Embedding(MAX_NUM_WORDS, NUM_EMBEDDING_DIM)(input_sequence)\n",
    "\n",
    "# CNN branch\n",
    "conv1d_layer = Conv1D(32, kernel_size=3, activation='relu')(embedding_layer)\n",
    "maxpooling_layer = MaxPooling1D(pool_size=2)(conv1d_layer)\n",
    "cnn_flattened_layer = Flatten()(maxpooling_layer)\n",
    "\n",
    "# LSTM branch\n",
    "lstm_layer = LSTM(NUM_LSTM_UNITS)(embedding_layer)\n",
    "\n",
    "# Concatenate the output of CNN and LSTM branches\n",
    "merged = concatenate([cnn_flattened_layer, lstm_layer])\n",
    "\n",
    "# Additional Dense layer for combined features\n",
    "dense_layer = Dense(64, activation='relu')(merged)\n",
    "\n",
    "# Output layer\n",
    "output = Dense(NUM_CLASSES, activation='softmax')(dense_layer)\n",
    "\n",
    "# Create the model\n",
    "model_cnnlstm = Model(inputs=input_sequence, outputs=output)\n",
    "\n",
    "model_cnnlstm.summary()"
   ]
  },
  {
   "cell_type": "code",
   "execution_count": 63,
   "id": "41bb5dbc",
   "metadata": {},
   "outputs": [
    {
     "name": "stdout",
     "output_type": "stream",
     "text": [
      "Epoch 1/50\n",
      "11/11 [==============================] - 5s 330ms/step - loss: 0.6434 - accuracy: 0.6253 - val_loss: 0.5880 - val_accuracy: 0.7022\n",
      "Epoch 2/50\n",
      "11/11 [==============================] - 3s 306ms/step - loss: 0.4104 - accuracy: 0.8318 - val_loss: 0.3398 - val_accuracy: 0.8693\n",
      "Epoch 3/50\n",
      "11/11 [==============================] - 3s 296ms/step - loss: 0.1900 - accuracy: 0.9293 - val_loss: 0.2981 - val_accuracy: 0.8861\n",
      "Epoch 4/50\n",
      "11/11 [==============================] - 3s 276ms/step - loss: 0.0851 - accuracy: 0.9712 - val_loss: 0.3250 - val_accuracy: 0.8832\n",
      "Epoch 5/50\n",
      "11/11 [==============================] - 3s 303ms/step - loss: 0.0377 - accuracy: 0.9874 - val_loss: 0.3909 - val_accuracy: 0.8788\n",
      "Epoch 6/50\n",
      "11/11 [==============================] - 3s 307ms/step - loss: 0.0190 - accuracy: 0.9936 - val_loss: 0.4474 - val_accuracy: 0.8781\n",
      "Epoch 7/50\n",
      "11/11 [==============================] - 3s 319ms/step - loss: 0.0113 - accuracy: 0.9963 - val_loss: 0.5088 - val_accuracy: 0.8745\n",
      "Epoch 8/50\n",
      "11/11 [==============================] - 3s 303ms/step - loss: 0.0068 - accuracy: 0.9982 - val_loss: 0.5635 - val_accuracy: 0.8766\n",
      "Epoch 9/50\n",
      "11/11 [==============================] - 4s 328ms/step - loss: 0.0046 - accuracy: 0.9989 - val_loss: 0.6082 - val_accuracy: 0.8752\n",
      "Epoch 10/50\n",
      "11/11 [==============================] - 4s 342ms/step - loss: 0.0059 - accuracy: 0.9989 - val_loss: 0.6056 - val_accuracy: 0.8810\n",
      "Epoch 11/50\n",
      "11/11 [==============================] - 3s 284ms/step - loss: 0.0032 - accuracy: 0.9989 - val_loss: 0.6080 - val_accuracy: 0.8766\n",
      "Epoch 12/50\n",
      "11/11 [==============================] - 3s 287ms/step - loss: 0.0033 - accuracy: 0.9991 - val_loss: 0.6273 - val_accuracy: 0.8781\n",
      "Epoch 13/50\n",
      "11/11 [==============================] - 3s 294ms/step - loss: 0.0033 - accuracy: 0.9993 - val_loss: 0.6744 - val_accuracy: 0.8781\n",
      "Epoch 14/50\n",
      "11/11 [==============================] - 3s 293ms/step - loss: 0.0020 - accuracy: 0.9991 - val_loss: 0.6734 - val_accuracy: 0.8803\n",
      "Epoch 15/50\n",
      "11/11 [==============================] - 3s 287ms/step - loss: 0.0035 - accuracy: 0.9991 - val_loss: 0.6630 - val_accuracy: 0.8839\n",
      "Epoch 16/50\n",
      "11/11 [==============================] - 3s 289ms/step - loss: 0.0036 - accuracy: 0.9991 - val_loss: 0.6585 - val_accuracy: 0.8781\n",
      "Epoch 17/50\n",
      "11/11 [==============================] - 3s 300ms/step - loss: 0.0024 - accuracy: 0.9995 - val_loss: 0.6559 - val_accuracy: 0.8759\n",
      "Epoch 18/50\n",
      "11/11 [==============================] - 3s 303ms/step - loss: 0.0022 - accuracy: 0.9991 - val_loss: 0.6614 - val_accuracy: 0.8788\n",
      "Epoch 19/50\n",
      "11/11 [==============================] - 3s 286ms/step - loss: 0.0026 - accuracy: 0.9995 - val_loss: 0.6743 - val_accuracy: 0.8796\n",
      "Epoch 20/50\n",
      "11/11 [==============================] - 3s 303ms/step - loss: 0.0015 - accuracy: 0.9995 - val_loss: 0.7661 - val_accuracy: 0.8620\n",
      "Epoch 21/50\n",
      "11/11 [==============================] - 3s 286ms/step - loss: 0.0017 - accuracy: 0.9995 - val_loss: 0.6946 - val_accuracy: 0.8839\n",
      "Epoch 22/50\n",
      "11/11 [==============================] - 3s 295ms/step - loss: 0.0020 - accuracy: 0.9995 - val_loss: 0.7095 - val_accuracy: 0.8832\n",
      "Epoch 23/50\n",
      "11/11 [==============================] - 3s 289ms/step - loss: 0.0016 - accuracy: 0.9995 - val_loss: 0.7281 - val_accuracy: 0.8825\n",
      "Epoch 24/50\n",
      "11/11 [==============================] - 3s 271ms/step - loss: 0.0018 - accuracy: 0.9993 - val_loss: 0.7656 - val_accuracy: 0.8708\n",
      "Epoch 25/50\n",
      "11/11 [==============================] - 3s 286ms/step - loss: 0.0022 - accuracy: 0.9989 - val_loss: 0.6927 - val_accuracy: 0.8847\n",
      "Epoch 26/50\n",
      "11/11 [==============================] - 3s 278ms/step - loss: 0.0016 - accuracy: 0.9995 - val_loss: 0.7166 - val_accuracy: 0.8803\n",
      "Epoch 27/50\n",
      "11/11 [==============================] - 3s 287ms/step - loss: 0.0018 - accuracy: 0.9989 - val_loss: 0.7290 - val_accuracy: 0.8847\n",
      "Epoch 28/50\n",
      "11/11 [==============================] - 3s 293ms/step - loss: 0.0019 - accuracy: 0.9995 - val_loss: 0.7602 - val_accuracy: 0.8781\n",
      "Epoch 29/50\n",
      "11/11 [==============================] - 3s 284ms/step - loss: 9.7722e-04 - accuracy: 0.9996 - val_loss: 0.8025 - val_accuracy: 0.8664\n",
      "Epoch 30/50\n",
      "11/11 [==============================] - 3s 297ms/step - loss: 0.0019 - accuracy: 0.9991 - val_loss: 0.7039 - val_accuracy: 0.8861\n",
      "Epoch 31/50\n",
      "11/11 [==============================] - 3s 300ms/step - loss: 0.0020 - accuracy: 0.9995 - val_loss: 0.7588 - val_accuracy: 0.8788\n",
      "Epoch 32/50\n",
      "11/11 [==============================] - 4s 318ms/step - loss: 0.0015 - accuracy: 0.9995 - val_loss: 0.8439 - val_accuracy: 0.8628\n",
      "Epoch 33/50\n",
      "11/11 [==============================] - 3s 309ms/step - loss: 0.0016 - accuracy: 0.9991 - val_loss: 0.7377 - val_accuracy: 0.8847\n",
      "Epoch 34/50\n",
      "11/11 [==============================] - 3s 287ms/step - loss: 0.0014 - accuracy: 0.9995 - val_loss: 0.7575 - val_accuracy: 0.8832\n",
      "Epoch 35/50\n",
      "11/11 [==============================] - 3s 303ms/step - loss: 0.0011 - accuracy: 0.9995 - val_loss: 0.8262 - val_accuracy: 0.8686\n",
      "Epoch 36/50\n",
      "11/11 [==============================] - 3s 297ms/step - loss: 0.0014 - accuracy: 0.9991 - val_loss: 0.7886 - val_accuracy: 0.8810\n",
      "Epoch 37/50\n",
      "11/11 [==============================] - 3s 284ms/step - loss: 0.0015 - accuracy: 0.9993 - val_loss: 0.7836 - val_accuracy: 0.8803\n",
      "Epoch 38/50\n",
      "11/11 [==============================] - 4s 320ms/step - loss: 0.0014 - accuracy: 0.9993 - val_loss: 0.7943 - val_accuracy: 0.8803\n",
      "Epoch 39/50\n",
      "11/11 [==============================] - 4s 327ms/step - loss: 0.0012 - accuracy: 0.9993 - val_loss: 0.8104 - val_accuracy: 0.8803\n",
      "Epoch 40/50\n",
      "11/11 [==============================] - 3s 303ms/step - loss: 0.0012 - accuracy: 0.9993 - val_loss: 0.8249 - val_accuracy: 0.8766\n",
      "Epoch 41/50\n",
      "11/11 [==============================] - 4s 353ms/step - loss: 0.0011 - accuracy: 0.9993 - val_loss: 0.8322 - val_accuracy: 0.8766\n",
      "Epoch 42/50\n",
      "11/11 [==============================] - 3s 304ms/step - loss: 0.0011 - accuracy: 0.9993 - val_loss: 0.8468 - val_accuracy: 0.8766\n",
      "Epoch 43/50\n",
      "11/11 [==============================] - 3s 301ms/step - loss: 0.0012 - accuracy: 0.9991 - val_loss: 0.8656 - val_accuracy: 0.8759\n",
      "Epoch 44/50\n",
      "11/11 [==============================] - 3s 294ms/step - loss: 0.0012 - accuracy: 0.9993 - val_loss: 0.8530 - val_accuracy: 0.8796\n",
      "Epoch 45/50\n",
      "11/11 [==============================] - 3s 276ms/step - loss: 9.4044e-04 - accuracy: 0.9993 - val_loss: 0.8989 - val_accuracy: 0.8723\n",
      "Epoch 46/50\n",
      "11/11 [==============================] - 3s 294ms/step - loss: 0.0013 - accuracy: 0.9993 - val_loss: 0.8624 - val_accuracy: 0.8774\n",
      "Epoch 47/50\n",
      "11/11 [==============================] - 3s 292ms/step - loss: 0.0015 - accuracy: 0.9995 - val_loss: 0.8456 - val_accuracy: 0.8788\n",
      "Epoch 48/50\n",
      "11/11 [==============================] - 3s 312ms/step - loss: 0.0011 - accuracy: 0.9993 - val_loss: 0.8500 - val_accuracy: 0.8810\n",
      "Epoch 49/50\n",
      "11/11 [==============================] - 3s 317ms/step - loss: 0.0013 - accuracy: 0.9995 - val_loss: 0.8829 - val_accuracy: 0.8788\n",
      "Epoch 50/50\n",
      "11/11 [==============================] - 3s 271ms/step - loss: 0.0011 - accuracy: 0.9991 - val_loss: 0.8886 - val_accuracy: 0.8788\n",
      "54/54 [==============================] - 1s 9ms/step\n"
     ]
    }
   ],
   "source": [
    "model_training(model_cnnlstm, y_test_int)"
   ]
  },
  {
   "cell_type": "code",
   "execution_count": 64,
   "id": "ddc61181",
   "metadata": {
    "scrolled": false
   },
   "outputs": [
    {
     "name": "stdout",
     "output_type": "stream",
     "text": [
      "54/54 [==============================] - 1s 10ms/step\n",
      "--------------------------------------------------------------------------------\n",
      "              precision    recall  f1-score   support\n",
      "\n",
      "           0     0.8671    0.8403    0.8535       714\n",
      "           1     0.8881    0.9077    0.8978       997\n",
      "\n",
      "    accuracy                         0.8796      1711\n",
      "   macro avg     0.8776    0.8740    0.8757      1711\n",
      "weighted avg     0.8793    0.8796    0.8793      1711\n",
      "\n",
      "--------------------------------------------------------------------------------\n"
     ]
    },
    {
     "data": {
      "image/png": "[encoded data removed]",
      "text/plain": [
       "<Figure size 640x480 with 2 Axes>"
      ]
     },
     "metadata": {},
     "output_type": "display_data"
    }
   ],
   "source": [
    "model_prediction(model_cnnlstm, y_test_int)"
   ]
  },
  {
   "cell_type": "markdown",
   "id": "34a64ade",
   "metadata": {},
   "source": [
    "## CNN-LSTM with Word2Vec"
   ]
  },
  {
   "cell_type": "code",
   "execution_count": 65,
   "id": "3f755c16",
   "metadata": {},
   "outputs": [
    {
     "name": "stdout",
     "output_type": "stream",
     "text": [
      "Model: \"model_5\"\n",
      "__________________________________________________________________________________________________\n",
      " Layer (type)                Output Shape                 Param #   Connected to                  \n",
      "==================================================================================================\n",
      " input_6 (InputLayer)        [(None, 30)]                 0         []                            \n",
      "                                                                                                  \n",
      " embedding_5 (Embedding)     (None, 30, 256)              7189760   ['input_6[0][0]']             \n",
      "                                                                                                  \n",
      " conv1d_3 (Conv1D)           (None, 28, 32)               24608     ['embedding_5[0][0]']         \n",
      "                                                                                                  \n",
      " max_pooling1d_3 (MaxPoolin  (None, 14, 32)               0         ['conv1d_3[0][0]']            \n",
      " g1D)                                                                                             \n",
      "                                                                                                  \n",
      " flatten_3 (Flatten)         (None, 448)                  0         ['max_pooling1d_3[0][0]']     \n",
      "                                                                                                  \n",
      " lstm_3 (LSTM)               (None, 128)                  197120    ['embedding_5[0][0]']         \n",
      "                                                                                                  \n",
      " concatenate_1 (Concatenate  (None, 576)                  0         ['flatten_3[0][0]',           \n",
      " )                                                                   'lstm_3[0][0]']              \n",
      "                                                                                                  \n",
      " dense_8 (Dense)             (None, 64)                   36928     ['concatenate_1[0][0]']       \n",
      "                                                                                                  \n",
      " dense_9 (Dense)             (None, 2)                    130       ['dense_8[0][0]']             \n",
      "                                                                                                  \n",
      "==================================================================================================\n",
      "Total params: 7448546 (28.41 MB)\n",
      "Trainable params: 258786 (1010.88 KB)\n",
      "Non-trainable params: 7189760 (27.43 MB)\n",
      "__________________________________________________________________________________________________\n"
     ]
    }
   ],
   "source": [
    "# Define the input layer for sequences\n",
    "input_sequence = Input(shape=(MAX_SEQUENCE_LENGTH,), dtype='int32')\n",
    "\n",
    "# Updated embedding layer based on the Word2Vec model's vocabulary size\n",
    "embedding_layer = Embedding(\n",
    "    input_dim=embedding_matrix.shape[0],\n",
    "    output_dim=NUM_EMBEDDING_DIM,\n",
    "    weights=[embedding_matrix],\n",
    "    input_length=MAX_SEQUENCE_LENGTH,\n",
    "    trainable=False\n",
    ")\n",
    "\n",
    "# Embedding layer for sequences\n",
    "embedding_layer = embedding_layer(input_sequence)\n",
    "\n",
    "# CNN branch\n",
    "conv1d_layer = Conv1D(32, kernel_size=3, activation='relu')(embedding_layer)\n",
    "maxpooling_layer = MaxPooling1D(pool_size=2)(conv1d_layer)\n",
    "cnn_flattened_layer = Flatten()(maxpooling_layer)\n",
    "\n",
    "# LSTM branch\n",
    "lstm_layer = LSTM(NUM_LSTM_UNITS)(embedding_layer)\n",
    "\n",
    "# Concatenate the output of CNN and LSTM branches\n",
    "merged = concatenate([cnn_flattened_layer, lstm_layer])\n",
    "\n",
    "# Additional Dense layer for combined features\n",
    "dense_layer = Dense(64, activation='relu')(merged)\n",
    "\n",
    "# Output layer\n",
    "output = Dense(NUM_CLASSES, activation='softmax')(dense_layer)\n",
    "\n",
    "# Create the model\n",
    "model_cnnlstm_w2v = Model(inputs=input_sequence, outputs=output)\n",
    "\n",
    "model_cnnlstm_w2v.summary()"
   ]
  },
  {
   "cell_type": "code",
   "execution_count": 66,
   "id": "656022c4",
   "metadata": {},
   "outputs": [
    {
     "name": "stdout",
     "output_type": "stream",
     "text": [
      "Epoch 1/50\n",
      "11/11 [==============================] - 5s 252ms/step - loss: 0.5817 - accuracy: 0.6923 - val_loss: 0.5383 - val_accuracy: 0.7409\n",
      "Epoch 2/50\n",
      "11/11 [==============================] - 2s 209ms/step - loss: 0.4821 - accuracy: 0.7871 - val_loss: 0.4919 - val_accuracy: 0.7672\n",
      "Epoch 3/50\n",
      "11/11 [==============================] - 2s 206ms/step - loss: 0.4291 - accuracy: 0.8110 - val_loss: 0.4863 - val_accuracy: 0.7708\n",
      "Epoch 4/50\n",
      "11/11 [==============================] - 2s 201ms/step - loss: 0.3989 - accuracy: 0.8214 - val_loss: 0.4763 - val_accuracy: 0.7861\n",
      "Epoch 5/50\n",
      "11/11 [==============================] - 2s 199ms/step - loss: 0.3753 - accuracy: 0.8399 - val_loss: 0.4682 - val_accuracy: 0.7920\n",
      "Epoch 6/50\n",
      "11/11 [==============================] - 2s 202ms/step - loss: 0.3519 - accuracy: 0.8448 - val_loss: 0.4668 - val_accuracy: 0.7934\n",
      "Epoch 7/50\n",
      "11/11 [==============================] - 2s 197ms/step - loss: 0.3339 - accuracy: 0.8638 - val_loss: 0.4690 - val_accuracy: 0.7956\n",
      "Epoch 8/50\n",
      "11/11 [==============================] - 2s 205ms/step - loss: 0.3129 - accuracy: 0.8664 - val_loss: 0.4701 - val_accuracy: 0.7949\n",
      "Epoch 9/50\n",
      "11/11 [==============================] - 2s 205ms/step - loss: 0.2941 - accuracy: 0.8760 - val_loss: 0.4972 - val_accuracy: 0.7883\n",
      "Epoch 10/50\n",
      "11/11 [==============================] - 2s 209ms/step - loss: 0.2796 - accuracy: 0.8879 - val_loss: 0.5138 - val_accuracy: 0.7883\n",
      "Epoch 11/50\n",
      "11/11 [==============================] - 2s 206ms/step - loss: 0.2667 - accuracy: 0.8901 - val_loss: 0.4949 - val_accuracy: 0.7920\n",
      "Epoch 12/50\n",
      "11/11 [==============================] - 2s 206ms/step - loss: 0.2424 - accuracy: 0.9009 - val_loss: 0.5110 - val_accuracy: 0.7964\n",
      "Epoch 13/50\n",
      "11/11 [==============================] - 2s 206ms/step - loss: 0.2257 - accuracy: 0.9120 - val_loss: 0.5316 - val_accuracy: 0.7956\n",
      "Epoch 14/50\n",
      "11/11 [==============================] - 2s 212ms/step - loss: 0.2150 - accuracy: 0.9131 - val_loss: 0.5236 - val_accuracy: 0.7942\n",
      "Epoch 15/50\n",
      "11/11 [==============================] - 2s 199ms/step - loss: 0.1989 - accuracy: 0.9240 - val_loss: 0.5355 - val_accuracy: 0.7861\n",
      "Epoch 16/50\n",
      "11/11 [==============================] - 2s 196ms/step - loss: 0.1856 - accuracy: 0.9271 - val_loss: 0.5593 - val_accuracy: 0.7934\n",
      "Epoch 17/50\n",
      "11/11 [==============================] - 2s 209ms/step - loss: 0.1781 - accuracy: 0.9286 - val_loss: 0.6021 - val_accuracy: 0.7898\n",
      "Epoch 18/50\n",
      "11/11 [==============================] - 2s 213ms/step - loss: 0.1661 - accuracy: 0.9359 - val_loss: 0.6121 - val_accuracy: 0.7964\n",
      "Epoch 19/50\n",
      "11/11 [==============================] - 2s 202ms/step - loss: 0.1539 - accuracy: 0.9429 - val_loss: 0.6096 - val_accuracy: 0.8007\n",
      "Epoch 20/50\n",
      "11/11 [==============================] - 2s 212ms/step - loss: 0.1408 - accuracy: 0.9492 - val_loss: 0.6144 - val_accuracy: 0.7912\n",
      "Epoch 21/50\n",
      "11/11 [==============================] - 2s 209ms/step - loss: 0.1284 - accuracy: 0.9525 - val_loss: 0.6460 - val_accuracy: 0.7883\n",
      "Epoch 22/50\n",
      "11/11 [==============================] - 2s 204ms/step - loss: 0.1193 - accuracy: 0.9576 - val_loss: 0.6699 - val_accuracy: 0.7891\n",
      "Epoch 23/50\n",
      "11/11 [==============================] - 2s 207ms/step - loss: 0.1115 - accuracy: 0.9602 - val_loss: 0.6824 - val_accuracy: 0.7839\n",
      "Epoch 24/50\n",
      "11/11 [==============================] - 2s 201ms/step - loss: 0.1063 - accuracy: 0.9638 - val_loss: 0.6990 - val_accuracy: 0.7803\n",
      "Epoch 25/50\n",
      "11/11 [==============================] - 2s 206ms/step - loss: 0.1012 - accuracy: 0.9646 - val_loss: 0.7318 - val_accuracy: 0.7898\n",
      "Epoch 26/50\n",
      "11/11 [==============================] - 2s 209ms/step - loss: 0.0931 - accuracy: 0.9673 - val_loss: 0.7339 - val_accuracy: 0.7876\n",
      "Epoch 27/50\n",
      "11/11 [==============================] - 2s 201ms/step - loss: 0.0861 - accuracy: 0.9712 - val_loss: 0.7821 - val_accuracy: 0.7934\n",
      "Epoch 28/50\n",
      "11/11 [==============================] - 2s 209ms/step - loss: 0.0786 - accuracy: 0.9735 - val_loss: 0.7805 - val_accuracy: 0.7934\n",
      "Epoch 29/50\n",
      "11/11 [==============================] - 2s 215ms/step - loss: 0.0751 - accuracy: 0.9755 - val_loss: 0.8414 - val_accuracy: 0.7978\n",
      "Epoch 30/50\n",
      "11/11 [==============================] - 2s 209ms/step - loss: 0.0711 - accuracy: 0.9761 - val_loss: 0.8455 - val_accuracy: 0.7934\n",
      "Epoch 31/50\n",
      "11/11 [==============================] - 2s 218ms/step - loss: 0.0658 - accuracy: 0.9790 - val_loss: 0.8744 - val_accuracy: 0.7905\n",
      "Epoch 32/50\n",
      "11/11 [==============================] - 2s 207ms/step - loss: 0.0615 - accuracy: 0.9794 - val_loss: 0.8993 - val_accuracy: 0.7869\n",
      "Epoch 33/50\n",
      "11/11 [==============================] - 2s 209ms/step - loss: 0.0605 - accuracy: 0.9797 - val_loss: 0.9516 - val_accuracy: 0.7876\n",
      "Epoch 34/50\n",
      "11/11 [==============================] - 2s 204ms/step - loss: 0.0592 - accuracy: 0.9797 - val_loss: 0.9540 - val_accuracy: 0.7934\n",
      "Epoch 35/50\n",
      "11/11 [==============================] - 2s 207ms/step - loss: 0.0591 - accuracy: 0.9812 - val_loss: 0.9827 - val_accuracy: 0.7920\n",
      "Epoch 36/50\n",
      "11/11 [==============================] - 2s 209ms/step - loss: 0.0552 - accuracy: 0.9808 - val_loss: 0.9814 - val_accuracy: 0.7891\n",
      "Epoch 37/50\n",
      "11/11 [==============================] - 2s 218ms/step - loss: 0.0559 - accuracy: 0.9816 - val_loss: 0.9909 - val_accuracy: 0.7883\n",
      "Epoch 38/50\n",
      "11/11 [==============================] - 2s 212ms/step - loss: 0.0471 - accuracy: 0.9841 - val_loss: 1.0519 - val_accuracy: 0.7927\n",
      "Epoch 39/50\n",
      "11/11 [==============================] - 2s 211ms/step - loss: 0.0473 - accuracy: 0.9832 - val_loss: 1.0898 - val_accuracy: 0.7854\n",
      "Epoch 40/50\n",
      "11/11 [==============================] - 2s 216ms/step - loss: 0.0470 - accuracy: 0.9838 - val_loss: 1.0642 - val_accuracy: 0.7847\n",
      "Epoch 41/50\n",
      "11/11 [==============================] - 2s 207ms/step - loss: 0.0464 - accuracy: 0.9839 - val_loss: 1.1248 - val_accuracy: 0.7898\n",
      "Epoch 42/50\n",
      "11/11 [==============================] - 3s 247ms/step - loss: 0.0434 - accuracy: 0.9850 - val_loss: 1.0827 - val_accuracy: 0.7898\n",
      "Epoch 43/50\n",
      "11/11 [==============================] - 3s 254ms/step - loss: 0.0488 - accuracy: 0.9830 - val_loss: 1.1366 - val_accuracy: 0.7956\n",
      "Epoch 44/50\n",
      "11/11 [==============================] - 3s 247ms/step - loss: 0.0450 - accuracy: 0.9845 - val_loss: 1.0899 - val_accuracy: 0.7745\n",
      "Epoch 45/50\n",
      "11/11 [==============================] - 2s 229ms/step - loss: 0.0456 - accuracy: 0.9838 - val_loss: 1.1626 - val_accuracy: 0.7803\n",
      "Epoch 46/50\n",
      "11/11 [==============================] - 3s 256ms/step - loss: 0.0417 - accuracy: 0.9848 - val_loss: 1.1453 - val_accuracy: 0.7810\n",
      "Epoch 47/50\n",
      "11/11 [==============================] - 3s 268ms/step - loss: 0.0399 - accuracy: 0.9854 - val_loss: 1.1565 - val_accuracy: 0.7818\n",
      "Epoch 48/50\n",
      "11/11 [==============================] - 3s 258ms/step - loss: 0.0385 - accuracy: 0.9854 - val_loss: 1.2285 - val_accuracy: 0.7934\n",
      "Epoch 49/50\n",
      "11/11 [==============================] - 3s 257ms/step - loss: 0.0380 - accuracy: 0.9856 - val_loss: 1.2308 - val_accuracy: 0.7876\n",
      "Epoch 50/50\n",
      "11/11 [==============================] - 3s 251ms/step - loss: 0.0380 - accuracy: 0.9858 - val_loss: 1.2500 - val_accuracy: 0.7839\n",
      "54/54 [==============================] - 1s 13ms/step\n"
     ]
    }
   ],
   "source": [
    "model_training(model_cnnlstm_w2v, y_test_int)"
   ]
  },
  {
   "cell_type": "code",
   "execution_count": 67,
   "id": "1fdd5e1f",
   "metadata": {},
   "outputs": [
    {
     "name": "stdout",
     "output_type": "stream",
     "text": [
      "54/54 [==============================] - 1s 14ms/step\n",
      "--------------------------------------------------------------------------------\n",
      "              precision    recall  f1-score   support\n",
      "\n",
      "           0     0.8104    0.7423    0.7749       714\n",
      "           1     0.8259    0.8756    0.8500       997\n",
      "\n",
      "    accuracy                         0.8200      1711\n",
      "   macro avg     0.8182    0.8090    0.8125      1711\n",
      "weighted avg     0.8194    0.8200    0.8187      1711\n",
      "\n",
      "--------------------------------------------------------------------------------\n"
     ]
    },
    {
     "data": {
      "image/png": "[encoded data removed]",
      "text/plain": [
       "<Figure size 640x480 with 2 Axes>"
      ]
     },
     "metadata": {},
     "output_type": "display_data"
    }
   ],
   "source": [
    "model_prediction(model_cnnlstm_w2v, y_test_int)"
   ]
  },
  {
   "cell_type": "markdown",
   "id": "6130de36",
   "metadata": {},
   "source": [
    "# Evaluation"
   ]
  },
  {
   "cell_type": "code",
   "execution_count": 68,
   "id": "d2cacdc1",
   "metadata": {},
   "outputs": [
    {
     "data": {
      "text/html": [
       "<div>\n",
       "<style scoped>\n",
       "    .dataframe tbody tr th:only-of-type {\n",
       "        vertical-align: middle;\n",
       "    }\n",
       "\n",
       "    .dataframe tbody tr th {\n",
       "        vertical-align: top;\n",
       "    }\n",
       "\n",
       "    .dataframe thead th {\n",
       "        text-align: right;\n",
       "    }\n",
       "</style>\n",
       "<table border=\"1\" class=\"dataframe\">\n",
       "  <thead>\n",
       "    <tr style=\"text-align: right;\">\n",
       "      <th></th>\n",
       "      <th>Model</th>\n",
       "      <th>Accuracy, %</th>\n",
       "      <th>Precision, %</th>\n",
       "      <th>Recall, %</th>\n",
       "      <th>F1 Score, %</th>\n",
       "    </tr>\n",
       "  </thead>\n",
       "  <tbody>\n",
       "    <tr>\n",
       "      <th>0</th>\n",
       "      <td>LSTM</td>\n",
       "      <td>86.56</td>\n",
       "      <td>88.70</td>\n",
       "      <td>88.16</td>\n",
       "      <td>88.43</td>\n",
       "    </tr>\n",
       "    <tr>\n",
       "      <th>1</th>\n",
       "      <td>LSTM with Word2Vec</td>\n",
       "      <td>81.71</td>\n",
       "      <td>84.83</td>\n",
       "      <td>83.55</td>\n",
       "      <td>84.18</td>\n",
       "    </tr>\n",
       "    <tr>\n",
       "      <th>2</th>\n",
       "      <td>CNN</td>\n",
       "      <td>87.67</td>\n",
       "      <td>89.46</td>\n",
       "      <td>89.37</td>\n",
       "      <td>89.41</td>\n",
       "    </tr>\n",
       "    <tr>\n",
       "      <th>3</th>\n",
       "      <td>CNN with Word2Vec</td>\n",
       "      <td>79.37</td>\n",
       "      <td>83.68</td>\n",
       "      <td>80.24</td>\n",
       "      <td>81.93</td>\n",
       "    </tr>\n",
       "    <tr>\n",
       "      <th>4</th>\n",
       "      <td>CNN-LSTM</td>\n",
       "      <td>87.96</td>\n",
       "      <td>88.81</td>\n",
       "      <td>90.77</td>\n",
       "      <td>89.78</td>\n",
       "    </tr>\n",
       "    <tr>\n",
       "      <th>5</th>\n",
       "      <td>CNN-LSTM with Word2Vec</td>\n",
       "      <td>82.00</td>\n",
       "      <td>82.59</td>\n",
       "      <td>87.56</td>\n",
       "      <td>85.00</td>\n",
       "    </tr>\n",
       "  </tbody>\n",
       "</table>\n",
       "</div>"
      ],
      "text/plain": [
       "                    Model  Accuracy, %  Precision, %  Recall, %  F1 Score, %\n",
       "0                    LSTM        86.56         88.70      88.16        88.43\n",
       "1      LSTM with Word2Vec        81.71         84.83      83.55        84.18\n",
       "2                     CNN        87.67         89.46      89.37        89.41\n",
       "3       CNN with Word2Vec        79.37         83.68      80.24        81.93\n",
       "4                CNN-LSTM        87.96         88.81      90.77        89.78\n",
       "5  CNN-LSTM with Word2Vec        82.00         82.59      87.56        85.00"
      ]
     },
     "execution_count": 68,
     "metadata": {},
     "output_type": "execute_result"
    }
   ],
   "source": [
    "models = [\"LSTM\", \"LSTM with Word2Vec\", \"CNN\", \"CNN with Word2Vec\", \"CNN-LSTM\", \"CNN-LSTM with Word2Vec\"]\n",
    "\n",
    "metrics_dict = {\n",
    "    'Model': models,\n",
    "    'Accuracy, %': accuracies,\n",
    "    'Precision, %': precisions,\n",
    "    'Recall, %': recalls,\n",
    "    'F1 Score, %': f1_scores\n",
    "}\n",
    "\n",
    "# Convert the dictionary to a DataFrame\n",
    "metrics_comparison = pd.DataFrame(metrics_dict)\n",
    "\n",
    "# Display the DataFrame\n",
    "metrics_comparison"
   ]
  },
  {
   "cell_type": "code",
   "execution_count": 76,
   "id": "de39147b",
   "metadata": {},
   "outputs": [
    {
     "data": {
      "image/png": "[encoded data removed]",
      "text/plain": [
       "<Figure size 1000x600 with 1 Axes>"
      ]
     },
     "metadata": {},
     "output_type": "display_data"
    }
   ],
   "source": [
    "# Sort DataFrame by 'Accuracy, %' in descending order\n",
    "metrics_comparison.sort_values(by='Accuracy, %', ascending=True, inplace=True)\n",
    "\n",
    "# Plotting (horizontal bar chart)\n",
    "metrics_comparison.plot(kind='barh', x=\"Model\", y='Accuracy, %', figsize=(10, 6), color='green')\n",
    "plt.title('Accuracy Comparison')\n",
    "plt.xlabel('Percentage')\n",
    "plt.ylabel('Model')\n",
    "plt.xlim(0, 100)  # Adjust the x-axis range if needed\n",
    "plt.legend(loc='lower right')\n",
    "plt.show()"
   ]
  },
  {
   "cell_type": "code",
   "execution_count": 77,
   "id": "4fed6d50",
   "metadata": {},
   "outputs": [
    {
     "data": {
      "image/png": "[encoded data removed]",
      "text/plain": [
       "<Figure size 1000x600 with 1 Axes>"
      ]
     },
     "metadata": {},
     "output_type": "display_data"
    }
   ],
   "source": [
    "# Sort DataFrame by 'Accuracy, %' in descending order\n",
    "metrics_comparison.sort_values(by='Precision, %', ascending=True, inplace=True)\n",
    "\n",
    "# Plotting (horizontal bar chart)\n",
    "metrics_comparison.plot(kind='barh', x=\"Model\", y='Precision, %', figsize=(10, 6), color='Purple')\n",
    "plt.title('Precision Comparison')\n",
    "plt.xlabel('Percentage')\n",
    "plt.ylabel('Model')\n",
    "plt.xlim(0, 100)  # Adjust the x-axis range if needed\n",
    "plt.legend(loc='lower right')\n",
    "plt.show()"
   ]
  },
  {
   "cell_type": "code",
   "execution_count": 74,
   "id": "753934cf",
   "metadata": {},
   "outputs": [
    {
     "data": {
      "image/png": "[encoded data removed]",
      "text/plain": [
       "<Figure size 1000x600 with 1 Axes>"
      ]
     },
     "metadata": {},
     "output_type": "display_data"
    }
   ],
   "source": [
    "# Sort DataFrame by 'Accuracy, %' in descending order\n",
    "metrics_comparison.sort_values(by='Recall, %', ascending=True, inplace=True)\n",
    "\n",
    "# Plotting (horizontal bar chart)\n",
    "metrics_comparison.plot(kind='barh', x=\"Model\", y='Recall, %', figsize=(10, 6), color='Blue')\n",
    "plt.title('Recall Comparison')\n",
    "plt.xlabel('Percentage')\n",
    "plt.ylabel('Model')\n",
    "plt.xlim(0, 100)  # Adjust the x-axis range if needed\n",
    "plt.legend(loc='lower right')\n",
    "plt.show()"
   ]
  },
  {
   "cell_type": "code",
   "execution_count": 73,
   "id": "dbfa92ab",
   "metadata": {},
   "outputs": [
    {
     "data": {
      "image/png": "[encoded data removed]",
      "text/plain": [
       "<Figure size 1000x600 with 1 Axes>"
      ]
     },
     "metadata": {},
     "output_type": "display_data"
    }
   ],
   "source": [
    "# Sort DataFrame by 'Accuracy, %' in descending order\n",
    "metrics_comparison.sort_values(by='F1 Score, %', ascending=True, inplace=True)\n",
    "\n",
    "# Plotting (horizontal bar chart)\n",
    "metrics_comparison.plot(kind='barh', x=\"Model\", y='F1 Score, %', figsize=(10, 6), color='Orange')\n",
    "plt.title('F1 Score Comparison')\n",
    "plt.xlabel('Percentage')\n",
    "plt.ylabel('Model')\n",
    "plt.xlim(0, 100)  # Adjust the x-axis range if needed\n",
    "plt.legend(loc='lower right')\n",
    "plt.show()"
   ]
  },
  {
   "cell_type": "markdown",
   "id": "0a6e4dc4",
   "metadata": {},
   "source": [
    "# Deployment (Streamlit)"
   ]
  }
 ],
 "metadata": {
  "kernelspec": {
   "display_name": "Python 3 (ipykernel)",
   "language": "python",
   "name": "python3"
  },
  "language_info": {
   "codemirror_mode": {
    "name": "ipython",
    "version": 3
   },
   "file_extension": ".py",
   "mimetype": "text/x-python",
   "name": "python",
   "nbconvert_exporter": "python",
   "pygments_lexer": "ipython3",
   "version": "3.9.18"
  }
 },
 "nbformat": 4,
 "nbformat_minor": 5
}
